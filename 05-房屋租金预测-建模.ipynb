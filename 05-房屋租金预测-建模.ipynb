{
 "cells": [
  {
   "cell_type": "code",
   "execution_count": 1,
   "metadata": {},
   "outputs": [],
   "source": [
    "import matplotlib.pyplot as plt\n",
    "import pandas as pd\n",
    "import numpy as np\n",
    "import seaborn as sns\n",
    "import warnings\n",
    "import xgboost as xgb\n",
    "import copy\n",
    "from sklearn.model_selection import train_test_split,GridSearchCV\n",
    "from sklearn.feature_extraction import DictVectorizer\n",
    "from sklearn.ensemble import RandomForestRegressor,GradientBoostingRegressor\n",
    "from sklearn.metrics import mean_squared_error\n",
    "warnings.filterwarnings('ignore')#忽略一些警告"
   ]
  },
  {
   "cell_type": "markdown",
   "metadata": {},
   "source": [
    "## 读取数据"
   ]
  },
  {
   "cell_type": "code",
   "execution_count": 2,
   "metadata": {},
   "outputs": [
    {
     "name": "stdout",
     "output_type": "stream",
     "text": [
      "<class 'pandas.core.frame.DataFrame'>\n",
      "RangeIndex: 196499 entries, 0 to 196498\n",
      "Data columns (total 40 columns):\n",
      "时间           196499 non-null int64\n",
      "小区名          196499 non-null int64\n",
      "小区房屋出租数量     196499 non-null float64\n",
      "楼层           196499 non-null int64\n",
      "总楼层          196499 non-null float64\n",
      "房屋面积         196499 non-null float64\n",
      "房屋朝向         196499 non-null object\n",
      "居住状态         196499 non-null float64\n",
      "卧室数量         196499 non-null int64\n",
      "厅的数量         196499 non-null int64\n",
      "卫的数量         196499 non-null int64\n",
      "出租方式         196499 non-null float64\n",
      "区            196499 non-null float64\n",
      "位置           196499 non-null float64\n",
      "地铁线路         196499 non-null float64\n",
      "地铁站点         196499 non-null float64\n",
      "距离           196499 non-null float64\n",
      "装修情况         196499 non-null float64\n",
      "月租金          196499 non-null float64\n",
      "log_rent     196499 non-null float64\n",
      "新朝向          196499 non-null object\n",
      "房+卫+厅        196499 non-null int64\n",
      "房/总          196499 non-null float64\n",
      "卫/总          196499 non-null float64\n",
      "厅/总          196499 non-null float64\n",
      "卧室面积         196499 non-null float64\n",
      "楼层比          196499 non-null float64\n",
      "户型           196499 non-null int64\n",
      "平均值特征1       196499 non-null float64\n",
      "小区平均值特征      196499 non-null float64\n",
      "朝向平均值特征      196499 non-null float64\n",
      "站点平均值特征      196499 non-null float64\n",
      "位置平均值特征      196499 non-null float64\n",
      "有地铁          196499 non-null int64\n",
      "聚类特征         196499 non-null int64\n",
      "平均值特征2       196499 non-null float64\n",
      "小区线路数        196499 non-null int64\n",
      "位置线路数        196499 non-null int64\n",
      "新小区名         196499 non-null int64\n",
      "小区条数大于100    196499 non-null int64\n",
      "dtypes: float64(24), int64(14), object(2)\n",
      "memory usage: 60.0+ MB\n"
     ]
    }
   ],
   "source": [
    "data=pd.read_csv(\"data/onehot_feature.csv\")\n",
    "data.info()"
   ]
  },
  {
   "cell_type": "code",
   "execution_count": 3,
   "metadata": {},
   "outputs": [],
   "source": [
    "#将离散特征转换成字符串类型\n",
    "colunms = ['时间', '新小区名', '居住状态', '出租方式', '区','位置','地铁线路','地铁站点','装修情况','户型','聚类特征']\n",
    "for col in colunms:\n",
    "    data[col] = data[col].astype(str)"
   ]
  },
  {
   "cell_type": "markdown",
   "metadata": {},
   "source": [
    "## 获取特征集和目标值"
   ]
  },
  {
   "cell_type": "code",
   "execution_count": 4,
   "metadata": {},
   "outputs": [
    {
     "data": {
      "text/plain": [
       "Index(['时间', '小区名', '小区房屋出租数量', '楼层', '总楼层', '房屋面积', '房屋朝向', '居住状态', '卧室数量',\n",
       "       '厅的数量', '卫的数量', '出租方式', '区', '位置', '地铁线路', '地铁站点', '距离', '装修情况', '月租金',\n",
       "       'log_rent', '新朝向', '房+卫+厅', '房/总', '卫/总', '厅/总', '卧室面积', '楼层比', '户型',\n",
       "       '平均值特征1', '小区平均值特征', '朝向平均值特征', '站点平均值特征', '位置平均值特征', '有地铁', '聚类特征',\n",
       "       '平均值特征2', '小区线路数', '位置线路数', '新小区名', '小区条数大于100'],\n",
       "      dtype='object')"
      ]
     },
     "execution_count": 4,
     "metadata": {},
     "output_type": "execute_result"
    }
   ],
   "source": [
    "data.columns"
   ]
  },
  {
   "cell_type": "code",
   "execution_count": 5,
   "metadata": {},
   "outputs": [
    {
     "data": {
      "text/plain": [
       "0"
      ]
     },
     "execution_count": 5,
     "metadata": {},
     "output_type": "execute_result"
    }
   ],
   "source": [
    "x_columns=['时间', '新小区名', '小区房屋出租数量', '楼层', '总楼层', '房屋面积','居住状态', '卧室数量',\n",
    "       '厅的数量', '卫的数量', '出租方式', '区', '位置', '地铁线路', '地铁站点', '距离', '装修情况', \n",
    "       '新朝向', '房+卫+厅', '房/总', '卫/总', '厅/总', '卧室面积', '楼层比', '户型','平均值特征1',\n",
    "       '平均值特征2','有地铁','小区线路数','位置线路数','小区条数大于100','小区平均值特征','朝向平均值特征',\n",
    "           '站点平均值特征','位置平均值特征']\n",
    "y_label='log_rent'\n",
    "x=data[x_columns]\n",
    "y=data[y_label]\n",
    "y.isnull().sum()"
   ]
  },
  {
   "cell_type": "markdown",
   "metadata": {},
   "source": [
    "## 构建训练函数"
   ]
  },
  {
   "cell_type": "code",
   "execution_count": 6,
   "metadata": {},
   "outputs": [],
   "source": [
    "def feature_transformer(x,y,test_size=0.3,random_state=12):\n",
    "    \"\"\"\n",
    "    负责分割数据集并转换onehot特征，返回转换后的稀疏矩阵和特征名\n",
    "    \"\"\"\n",
    "    #1.重新命名列名\n",
    "    #原列名\n",
    "    cols=['时间', '新小区名', '小区房屋出租数量', '楼层', '总楼层', '房屋面积','居住状态', '卧室数量',\n",
    "       '厅的数量', '卫的数量', '出租方式', '区', '位置', '地铁线路', '地铁站点', '距离', '装修情况', \n",
    "       '新朝向', '房+卫+厅', '房/总', '卫/总', '厅/总', '卧室面积', '楼层比', '户型','平均值特征1',\n",
    "       '平均值特征2','有地铁','小区线路数','位置线路数','小区条数大于100','小区平均值特征','朝向平均值特征',\n",
    "           '站点平均值特征','位置平均值特征']\n",
    "    #新列名\n",
    "    new_cols=[chr(65+s)+str(i) for s in range(len(cols)//10+1) for i in range(10)]\n",
    "    new_cols=new_cols[:len(cols)]\n",
    "    #特征名映射字典\n",
    "    cols_map={k:v for k,v in zip(cols,new_cols)}\n",
    "    #重新命名列\n",
    "    x.columns=[cols_map[k] for k in x.columns]\n",
    "    \n",
    "    #2.分割数据集\n",
    "    train_x,test_x,train_y,test_y=train_test_split(x,y,test_size=test_size,random_state=random_state)\n",
    "    \n",
    "    #3.转换onehot特征\n",
    "    #返回稀疏矩阵，有两个优点：\n",
    "    #1.占用内存大幅减小，让并行成为可能，不然并行的话，内存爆掉\n",
    "    #2.可以加速xgboost训练\n",
    "    vector=DictVectorizer(sparse=True)\n",
    "    x_train=vector.fit_transform(train_x.to_dict(orient='records'))\n",
    "    x_test=vector.transform(test_x.to_dict(orient='records'))\n",
    "    features=vector.get_feature_names()\n",
    "    \n",
    "    #4.构建原始特征对应的新下标字典  \n",
    "    #原始特征名\n",
    "    \n",
    "    #离散列特征下标字典\n",
    "    feature_map={k:[] for k in cols}\n",
    "    for i in range(len(features)):\n",
    "        for col in cols:\n",
    "            if features[i].startswith(cols_map[col]):#如果新特征以老特征开头\n",
    "                feature_map[col].append(i)\n",
    "                break\n",
    "    return (x_train,x_test,train_y,test_y),feature_map,cols_map\n",
    "\n",
    "\n",
    "def train(cols,data,feature_map,num_round = 500):\n",
    "    \"\"\"\n",
    "    负责完成一次xgboost训练，返回测试集rmse\n",
    "    \"\"\"\n",
    "    #1.获取数据集\n",
    "    train_x,test_x,train_y,test_y=data\n",
    "    #获取原始特征对应的新特征下标\n",
    "    index=[]\n",
    "    for col in cols:\n",
    "        index.extend(feature_map[col])\n",
    "    x_train=train_x[:,index]\n",
    "    x_test=test_x[:,index]\n",
    "    #3.构建数据格式\n",
    "    #构建DMatrix数据，可以有效利用硬盘缓存，减少内存占用\n",
    "    dtrain = xgb.DMatrix(x_train,train_y)\n",
    "    dtest = xgb.DMatrix(x_test,test_y)\n",
    "    \n",
    "    #4.设置训练参数\n",
    "    param = {'max_depth':5, \n",
    "             'eta':0.01, \n",
    "             'verbosity':1, \n",
    "             'objective':'reg:linear',\n",
    "             'silent': 1,\n",
    "             'gamma': 0.01,\n",
    "             'min_child_weight': 1,\n",
    "             \n",
    "            }\n",
    "    #5.模型训练\n",
    "    bst = xgb.train(param, dtrain, num_round)\n",
    "    \n",
    "    #6.模型预测\n",
    "    preds = bst.predict(dtest)\n",
    "    preds=np.exp(preds)-1#转换成真实的租金\n",
    "    y_true=np.exp(test_y)-1\n",
    "    \n",
    "    #7.模型评估\n",
    "    return np.sqrt(mean_squared_error(y_true,preds))\n",
    "    "
   ]
  },
  {
   "cell_type": "code",
   "execution_count": 7,
   "metadata": {},
   "outputs": [],
   "source": [
    "#完成特征分割和转换\n",
    "d,f_map,c_map=feature_transformer(x,y)"
   ]
  },
  {
   "cell_type": "markdown",
   "metadata": {},
   "source": [
    "## 模型特征筛选"
   ]
  },
  {
   "cell_type": "code",
   "execution_count": 8,
   "metadata": {},
   "outputs": [],
   "source": [
    "# 局部最优搜索\n",
    "# 构造筛选特征函数\n",
    "def select_features(cols,min_score):\n",
    "    include_features=cols\n",
    "    exclude_features=[]\n",
    "    cols=np.array(cols)\n",
    "    for i in range(cols.shape[0]):\n",
    "        #选中的特征\n",
    "        features=list(cols[list(set(range(cols.shape[0]))-set([i]))])\n",
    "        print(\"开始第{}次训练:\".format(i))\n",
    "        print(\"未选中特征：\",cols[i])\n",
    "        rmse=train(features,d,f_map,2500)\n",
    "        print(\"开始第{}次训练测试集成绩{}：\".format(i,rmse))\n",
    "        print(\"-\"*10)\n",
    "        if rmse<=min_score:\n",
    "            exclude_features=cols[i]\n",
    "            include_features=features\n",
    "            min_score=rmse\n",
    "    return min_score,include_features,exclude_features "
   ]
  },
  {
   "cell_type": "code",
   "execution_count": 9,
   "metadata": {},
   "outputs": [],
   "source": [
    "min_score=train(x_columns,d,f_map)"
   ]
  },
  {
   "cell_type": "code",
   "execution_count": 10,
   "metadata": {},
   "outputs": [
    {
     "data": {
      "text/plain": [
       "2.631632039709192"
      ]
     },
     "execution_count": 10,
     "metadata": {},
     "output_type": "execute_result"
    }
   ],
   "source": [
    "features=x_columns\n",
    "min_score"
   ]
  },
  {
   "cell_type": "code",
   "execution_count": 11,
   "metadata": {
    "scrolled": true
   },
   "outputs": [
    {
     "name": "stdout",
     "output_type": "stream",
     "text": [
      "开始第1轮筛选:\n",
      "\n",
      "开始第0次训练:\n",
      "未选中特征： 时间\n",
      "开始第0次训练测试集成绩2.3461997068545446：\n",
      "----------\n",
      "开始第1次训练:\n",
      "未选中特征： 新小区名\n",
      "开始第1次训练测试集成绩2.3358563620495256：\n",
      "----------\n",
      "开始第2次训练:\n",
      "未选中特征： 小区房屋出租数量\n",
      "开始第2次训练测试集成绩2.36631512364606：\n",
      "----------\n",
      "开始第3次训练:\n",
      "未选中特征： 楼层\n"
     ]
    },
    {
     "ename": "KeyboardInterrupt",
     "evalue": "",
     "output_type": "error",
     "traceback": [
      "\u001b[1;31m---------------------------------------------------------------------------\u001b[0m",
      "\u001b[1;31mKeyboardInterrupt\u001b[0m                         Traceback (most recent call last)",
      "\u001b[1;32m<ipython-input-11-790cd94e7ee1>\u001b[0m in \u001b[0;36m<module>\u001b[1;34m\u001b[0m\n\u001b[0;32m      2\u001b[0m \u001b[1;32mwhile\u001b[0m \u001b[0mlen\u001b[0m\u001b[1;33m(\u001b[0m\u001b[0mfeatures\u001b[0m\u001b[1;33m)\u001b[0m\u001b[1;33m>\u001b[0m\u001b[1;36m0\u001b[0m\u001b[1;33m:\u001b[0m\u001b[1;33m\u001b[0m\u001b[1;33m\u001b[0m\u001b[0m\n\u001b[0;32m      3\u001b[0m     \u001b[0mprint\u001b[0m\u001b[1;33m(\u001b[0m\u001b[1;34m\"开始第{}轮筛选:\\n\"\u001b[0m\u001b[1;33m.\u001b[0m\u001b[0mformat\u001b[0m\u001b[1;33m(\u001b[0m\u001b[0mi\u001b[0m\u001b[1;33m)\u001b[0m\u001b[1;33m)\u001b[0m\u001b[1;33m\u001b[0m\u001b[1;33m\u001b[0m\u001b[0m\n\u001b[1;32m----> 4\u001b[1;33m     \u001b[0mms\u001b[0m\u001b[1;33m,\u001b[0m\u001b[0minclude_f\u001b[0m\u001b[1;33m,\u001b[0m\u001b[0mexclude_f\u001b[0m\u001b[1;33m=\u001b[0m\u001b[0mselect_features\u001b[0m\u001b[1;33m(\u001b[0m\u001b[0mfeatures\u001b[0m\u001b[1;33m,\u001b[0m\u001b[0mmin_score\u001b[0m\u001b[1;33m)\u001b[0m\u001b[1;33m\u001b[0m\u001b[1;33m\u001b[0m\u001b[0m\n\u001b[0m\u001b[0;32m      5\u001b[0m     \u001b[1;32mif\u001b[0m \u001b[0mlen\u001b[0m\u001b[1;33m(\u001b[0m\u001b[0mexclude_f\u001b[0m\u001b[1;33m)\u001b[0m\u001b[1;33m<=\u001b[0m\u001b[1;36m0\u001b[0m\u001b[1;33m:\u001b[0m\u001b[1;33m\u001b[0m\u001b[1;33m\u001b[0m\u001b[0m\n\u001b[0;32m      6\u001b[0m         \u001b[1;32mbreak\u001b[0m\u001b[1;33m\u001b[0m\u001b[1;33m\u001b[0m\u001b[0m\n",
      "\u001b[1;32m<ipython-input-8-ab594825f760>\u001b[0m in \u001b[0;36mselect_features\u001b[1;34m(cols, min_score)\u001b[0m\n\u001b[0;32m     10\u001b[0m         \u001b[0mprint\u001b[0m\u001b[1;33m(\u001b[0m\u001b[1;34m\"开始第{}次训练:\"\u001b[0m\u001b[1;33m.\u001b[0m\u001b[0mformat\u001b[0m\u001b[1;33m(\u001b[0m\u001b[0mi\u001b[0m\u001b[1;33m)\u001b[0m\u001b[1;33m)\u001b[0m\u001b[1;33m\u001b[0m\u001b[1;33m\u001b[0m\u001b[0m\n\u001b[0;32m     11\u001b[0m         \u001b[0mprint\u001b[0m\u001b[1;33m(\u001b[0m\u001b[1;34m\"未选中特征：\"\u001b[0m\u001b[1;33m,\u001b[0m\u001b[0mcols\u001b[0m\u001b[1;33m[\u001b[0m\u001b[0mi\u001b[0m\u001b[1;33m]\u001b[0m\u001b[1;33m)\u001b[0m\u001b[1;33m\u001b[0m\u001b[1;33m\u001b[0m\u001b[0m\n\u001b[1;32m---> 12\u001b[1;33m         \u001b[0mrmse\u001b[0m\u001b[1;33m=\u001b[0m\u001b[0mtrain\u001b[0m\u001b[1;33m(\u001b[0m\u001b[0mfeatures\u001b[0m\u001b[1;33m,\u001b[0m\u001b[0md\u001b[0m\u001b[1;33m,\u001b[0m\u001b[0mf_map\u001b[0m\u001b[1;33m,\u001b[0m\u001b[1;36m2500\u001b[0m\u001b[1;33m)\u001b[0m\u001b[1;33m\u001b[0m\u001b[1;33m\u001b[0m\u001b[0m\n\u001b[0m\u001b[0;32m     13\u001b[0m         \u001b[0mprint\u001b[0m\u001b[1;33m(\u001b[0m\u001b[1;34m\"开始第{}次训练测试集成绩{}：\"\u001b[0m\u001b[1;33m.\u001b[0m\u001b[0mformat\u001b[0m\u001b[1;33m(\u001b[0m\u001b[0mi\u001b[0m\u001b[1;33m,\u001b[0m\u001b[0mrmse\u001b[0m\u001b[1;33m)\u001b[0m\u001b[1;33m)\u001b[0m\u001b[1;33m\u001b[0m\u001b[1;33m\u001b[0m\u001b[0m\n\u001b[0;32m     14\u001b[0m         \u001b[0mprint\u001b[0m\u001b[1;33m(\u001b[0m\u001b[1;34m\"-\"\u001b[0m\u001b[1;33m*\u001b[0m\u001b[1;36m10\u001b[0m\u001b[1;33m)\u001b[0m\u001b[1;33m\u001b[0m\u001b[1;33m\u001b[0m\u001b[0m\n",
      "\u001b[1;32m<ipython-input-6-79366efb894f>\u001b[0m in \u001b[0;36mtrain\u001b[1;34m(cols, data, feature_map, num_round)\u001b[0m\n\u001b[0;32m     71\u001b[0m             }\n\u001b[0;32m     72\u001b[0m     \u001b[1;31m#5.模型训练\u001b[0m\u001b[1;33m\u001b[0m\u001b[1;33m\u001b[0m\u001b[1;33m\u001b[0m\u001b[0m\n\u001b[1;32m---> 73\u001b[1;33m     \u001b[0mbst\u001b[0m \u001b[1;33m=\u001b[0m \u001b[0mxgb\u001b[0m\u001b[1;33m.\u001b[0m\u001b[0mtrain\u001b[0m\u001b[1;33m(\u001b[0m\u001b[0mparam\u001b[0m\u001b[1;33m,\u001b[0m \u001b[0mdtrain\u001b[0m\u001b[1;33m,\u001b[0m \u001b[0mnum_round\u001b[0m\u001b[1;33m)\u001b[0m\u001b[1;33m\u001b[0m\u001b[1;33m\u001b[0m\u001b[0m\n\u001b[0m\u001b[0;32m     74\u001b[0m \u001b[1;33m\u001b[0m\u001b[0m\n\u001b[0;32m     75\u001b[0m     \u001b[1;31m#6.模型预测\u001b[0m\u001b[1;33m\u001b[0m\u001b[1;33m\u001b[0m\u001b[1;33m\u001b[0m\u001b[0m\n",
      "\u001b[1;32mG:\\ProgramData\\Anaconda3\\lib\\site-packages\\xgboost\\training.py\u001b[0m in \u001b[0;36mtrain\u001b[1;34m(params, dtrain, num_boost_round, evals, obj, feval, maximize, early_stopping_rounds, evals_result, verbose_eval, xgb_model, callbacks)\u001b[0m\n\u001b[0;32m    207\u001b[0m                            \u001b[0mevals\u001b[0m\u001b[1;33m=\u001b[0m\u001b[0mevals\u001b[0m\u001b[1;33m,\u001b[0m\u001b[1;33m\u001b[0m\u001b[1;33m\u001b[0m\u001b[0m\n\u001b[0;32m    208\u001b[0m                            \u001b[0mobj\u001b[0m\u001b[1;33m=\u001b[0m\u001b[0mobj\u001b[0m\u001b[1;33m,\u001b[0m \u001b[0mfeval\u001b[0m\u001b[1;33m=\u001b[0m\u001b[0mfeval\u001b[0m\u001b[1;33m,\u001b[0m\u001b[1;33m\u001b[0m\u001b[1;33m\u001b[0m\u001b[0m\n\u001b[1;32m--> 209\u001b[1;33m                            xgb_model=xgb_model, callbacks=callbacks)\n\u001b[0m\u001b[0;32m    210\u001b[0m \u001b[1;33m\u001b[0m\u001b[0m\n\u001b[0;32m    211\u001b[0m \u001b[1;33m\u001b[0m\u001b[0m\n",
      "\u001b[1;32mG:\\ProgramData\\Anaconda3\\lib\\site-packages\\xgboost\\training.py\u001b[0m in \u001b[0;36m_train_internal\u001b[1;34m(params, dtrain, num_boost_round, evals, obj, feval, xgb_model, callbacks)\u001b[0m\n\u001b[0;32m     72\u001b[0m         \u001b[1;31m# Skip the first update if it is a recovery step.\u001b[0m\u001b[1;33m\u001b[0m\u001b[1;33m\u001b[0m\u001b[1;33m\u001b[0m\u001b[0m\n\u001b[0;32m     73\u001b[0m         \u001b[1;32mif\u001b[0m \u001b[0mversion\u001b[0m \u001b[1;33m%\u001b[0m \u001b[1;36m2\u001b[0m \u001b[1;33m==\u001b[0m \u001b[1;36m0\u001b[0m\u001b[1;33m:\u001b[0m\u001b[1;33m\u001b[0m\u001b[1;33m\u001b[0m\u001b[0m\n\u001b[1;32m---> 74\u001b[1;33m             \u001b[0mbst\u001b[0m\u001b[1;33m.\u001b[0m\u001b[0mupdate\u001b[0m\u001b[1;33m(\u001b[0m\u001b[0mdtrain\u001b[0m\u001b[1;33m,\u001b[0m \u001b[0mi\u001b[0m\u001b[1;33m,\u001b[0m \u001b[0mobj\u001b[0m\u001b[1;33m)\u001b[0m\u001b[1;33m\u001b[0m\u001b[1;33m\u001b[0m\u001b[0m\n\u001b[0m\u001b[0;32m     75\u001b[0m             \u001b[0mbst\u001b[0m\u001b[1;33m.\u001b[0m\u001b[0msave_rabit_checkpoint\u001b[0m\u001b[1;33m(\u001b[0m\u001b[1;33m)\u001b[0m\u001b[1;33m\u001b[0m\u001b[1;33m\u001b[0m\u001b[0m\n\u001b[0;32m     76\u001b[0m             \u001b[0mversion\u001b[0m \u001b[1;33m+=\u001b[0m \u001b[1;36m1\u001b[0m\u001b[1;33m\u001b[0m\u001b[1;33m\u001b[0m\u001b[0m\n",
      "\u001b[1;32mG:\\ProgramData\\Anaconda3\\lib\\site-packages\\xgboost\\core.py\u001b[0m in \u001b[0;36mupdate\u001b[1;34m(self, dtrain, iteration, fobj)\u001b[0m\n\u001b[0;32m   1247\u001b[0m             _check_call(_LIB.XGBoosterUpdateOneIter(self.handle,\n\u001b[0;32m   1248\u001b[0m                                                     \u001b[0mctypes\u001b[0m\u001b[1;33m.\u001b[0m\u001b[0mc_int\u001b[0m\u001b[1;33m(\u001b[0m\u001b[0miteration\u001b[0m\u001b[1;33m)\u001b[0m\u001b[1;33m,\u001b[0m\u001b[1;33m\u001b[0m\u001b[1;33m\u001b[0m\u001b[0m\n\u001b[1;32m-> 1249\u001b[1;33m                                                     dtrain.handle))\n\u001b[0m\u001b[0;32m   1250\u001b[0m         \u001b[1;32melse\u001b[0m\u001b[1;33m:\u001b[0m\u001b[1;33m\u001b[0m\u001b[1;33m\u001b[0m\u001b[0m\n\u001b[0;32m   1251\u001b[0m             \u001b[0mpred\u001b[0m \u001b[1;33m=\u001b[0m \u001b[0mself\u001b[0m\u001b[1;33m.\u001b[0m\u001b[0mpredict\u001b[0m\u001b[1;33m(\u001b[0m\u001b[0mdtrain\u001b[0m\u001b[1;33m,\u001b[0m \u001b[0mtraining\u001b[0m\u001b[1;33m=\u001b[0m\u001b[1;32mTrue\u001b[0m\u001b[1;33m)\u001b[0m\u001b[1;33m\u001b[0m\u001b[1;33m\u001b[0m\u001b[0m\n",
      "\u001b[1;31mKeyboardInterrupt\u001b[0m: "
     ]
    }
   ],
   "source": [
    "i=1\n",
    "while len(features)>0:\n",
    "    print(\"开始第{}轮筛选:\\n\".format(i))\n",
    "    ms,include_f,exclude_f=select_features(features,min_score)\n",
    "    if len(exclude_f)<=0:\n",
    "        break\n",
    "    features=include_f\n",
    "    min_score=ms\n",
    "    print(\"第{}次筛选成绩:{}\\n\".format(i,min_score))\n",
    "    i=i+1\n",
    "    print(\"保留特征：\",include_f)\n",
    "    print(\"排除特征：\",exclude_f)\n",
    "    print(\"\\n*************************\\n\")\n",
    "    \n",
    "print(\"最终特征：\",features)\n",
    "print(\"最好成绩：\",min_score)"
   ]
  },
  {
   "cell_type": "code",
   "execution_count": 12,
   "metadata": {},
   "outputs": [
    {
     "data": {
      "text/plain": [
       "2.6888532158953726"
      ]
     },
     "execution_count": 12,
     "metadata": {},
     "output_type": "execute_result"
    }
   ],
   "source": [
    "cols=['小区房屋出租数量','房屋面积', '居住状态', '出租方式', '位置', '地铁站点', '距离', '装修情况', \n",
    "      '新朝向', '房+卫+厅', '房/总', '卫/总',  '卧室面积', '楼层比', '平均值特征1', '平均值特征2', \n",
    "      '小区线路数', '位置线路数','小区条数大于100']\n",
    "train(cols,d,f_map)"
   ]
  },
  {
   "cell_type": "markdown",
   "metadata": {},
   "source": [
    "## 参数搜索\n",
    "### 构建交叉验证和参数搜索函数"
   ]
  },
  {
   "cell_type": "code",
   "execution_count": 13,
   "metadata": {},
   "outputs": [],
   "source": [
    "from sklearn.model_selection import KFold\n",
    "#构建交叉验证函数\n",
    "def train_cv(data,target,params,num_round=200,k_fold=5,silent=0):\n",
    "    \"\"\"\n",
    "    负责完成一种参数组合的情况下k_flod折交叉验证的平均rmse值\n",
    "    \"\"\"\n",
    "    rmses=[]\n",
    "    #数据分割\n",
    "    kfold= KFold(n_splits=k_fold,random_state =None,shuffle=True)\n",
    "    for i,(train_index,val_index) in zip(range(k_fold),kfold.split(data,target)):\n",
    "        train_x,val_x,train_y,val_y=data[train_index,:],data[val_index,:],target[train_index],target[val_index]\n",
    "        #构建DMatrix数据\n",
    "        dtrain = xgb.DMatrix(train_x,train_y)\n",
    "        dtest = xgb.DMatrix(val_x,val_y)\n",
    "        if silent==0:\n",
    "            print(\"开始第{}/{}折验证：\".format(i,k_fold))\n",
    "        #模型训练\n",
    "        bst = xgb.train(params, dtrain, num_round)\n",
    "        \n",
    "        #6.模型预测\n",
    "        preds = bst.predict(dtest)\n",
    "        preds=np.exp(preds)-1#转换成真实的租金\n",
    "        y_true=np.exp(val_y)-1\n",
    "        rmse=np.sqrt(mean_squared_error(y_true,preds))\n",
    "        if silent==0:\n",
    "            print(\"第{}/{}折验证rmse：{}\".format(i,k_fold,rmse))\n",
    "        rmses.append(rmse)\n",
    "    return sum(rmses)/k_fold\n",
    "\n",
    "def search_params(x,y,params_grid,n_estimators=200,cv=3,silent=0):\n",
    "    min_rmse=9999\n",
    "    best_params=None\n",
    "    params_list=[[]]\n",
    "    \n",
    "    #根据参数表格构建所有参数组合\n",
    "    for k,v in params_grid.items():\n",
    "        if isinstance(v,list):\n",
    "            temp=params_list\n",
    "            params_list=[i+[j] for j in v for i in temp]\n",
    "        else:\n",
    "            params_list=[i+[v] for i in params_list]\n",
    "    params_list=[{k:v for k,v in zip(params_grid.keys(),v_list)} for v_list in params_list]\n",
    "    \n",
    "    for i,params in zip(range(len(params_list)),params_list):\n",
    "        if silent==0:\n",
    "            print(\"开始实验第{}组参数：\".format(i),params)\n",
    "        rmse=train_cv(data=x,target=y,params=params,num_round=n_estimators,k_fold=cv)\n",
    "        if silent==0:\n",
    "            print(\"第{}组参数平均rmse：{}\".format(i,rmse))\n",
    "            print(\"-\"*50)\n",
    "        if rmse<min_rmse:\n",
    "            min_rmse=rmse\n",
    "            best_params=params\n",
    "    return min_rmse,best_params\n",
    "              "
   ]
  },
  {
   "cell_type": "markdown",
   "metadata": {},
   "source": [
    "## 开始搜索"
   ]
  },
  {
   "cell_type": "code",
   "execution_count": 14,
   "metadata": {
    "scrolled": true
   },
   "outputs": [
    {
     "name": "stdout",
     "output_type": "stream",
     "text": [
      "开始实验第0组参数： {'objective': 'reg:linear', 'eta': 0.01, 'gamma': 0.01, 'silent': 1, 'max_depth': 15, 'min_child_weight': 0.5}\n",
      "开始第0/3折验证：\n",
      "第0/3折验证rmse：2.3334754684541483\n",
      "开始第1/3折验证：\n",
      "第1/3折验证rmse：2.0875718319952443\n",
      "开始第2/3折验证：\n",
      "第2/3折验证rmse：2.171265541692766\n",
      "第0组参数平均rmse：2.1974376140473866\n",
      "--------------------------------------------------\n",
      "开始实验第1组参数： {'objective': 'reg:linear', 'eta': 0.1, 'gamma': 0.01, 'silent': 1, 'max_depth': 15, 'min_child_weight': 0.5}\n",
      "开始第0/3折验证：\n",
      "第0/3折验证rmse：2.243130033305063\n",
      "开始第1/3折验证：\n",
      "第1/3折验证rmse：2.2967056571739377\n",
      "开始第2/3折验证：\n",
      "第2/3折验证rmse：2.2360509519219645\n",
      "第1组参数平均rmse：2.2586288808003214\n",
      "--------------------------------------------------\n",
      "开始实验第2组参数： {'objective': 'reg:linear', 'eta': 0.5, 'gamma': 0.01, 'silent': 1, 'max_depth': 15, 'min_child_weight': 0.5}\n",
      "开始第0/3折验证：\n",
      "第0/3折验证rmse：2.4488787219374224\n",
      "开始第1/3折验证：\n",
      "第1/3折验证rmse：2.3035791735080684\n",
      "开始第2/3折验证：\n",
      "第2/3折验证rmse：2.333795157155841\n",
      "第2组参数平均rmse：2.3620843508671108\n",
      "--------------------------------------------------\n",
      "开始实验第3组参数： {'objective': 'reg:linear', 'eta': 0.01, 'gamma': 0.05, 'silent': 1, 'max_depth': 15, 'min_child_weight': 0.5}\n",
      "开始第0/3折验证：\n",
      "第0/3折验证rmse：2.3312225123526145\n",
      "开始第1/3折验证：\n",
      "第1/3折验证rmse：2.106041160451235\n",
      "开始第2/3折验证：\n",
      "第2/3折验证rmse：2.151343399724614\n",
      "第3组参数平均rmse：2.196202357509488\n",
      "--------------------------------------------------\n",
      "开始实验第4组参数： {'objective': 'reg:linear', 'eta': 0.1, 'gamma': 0.05, 'silent': 1, 'max_depth': 15, 'min_child_weight': 0.5}\n",
      "开始第0/3折验证：\n"
     ]
    },
    {
     "ename": "KeyboardInterrupt",
     "evalue": "",
     "output_type": "error",
     "traceback": [
      "\u001b[1;31m---------------------------------------------------------------------------\u001b[0m",
      "\u001b[1;31mKeyboardInterrupt\u001b[0m                         Traceback (most recent call last)",
      "\u001b[1;32m<ipython-input-14-eb8937efb188>\u001b[0m in \u001b[0;36m<module>\u001b[1;34m\u001b[0m\n\u001b[0;32m     23\u001b[0m \u001b[0mtrain_y\u001b[0m\u001b[1;33m=\u001b[0m\u001b[0mtrain_y\u001b[0m\u001b[1;33m.\u001b[0m\u001b[0mreset_index\u001b[0m\u001b[1;33m(\u001b[0m\u001b[0mdrop\u001b[0m\u001b[1;33m=\u001b[0m\u001b[1;32mTrue\u001b[0m\u001b[1;33m)\u001b[0m\u001b[1;33m[\u001b[0m\u001b[1;33m:\u001b[0m\u001b[1;36m50000\u001b[0m\u001b[1;33m]\u001b[0m\u001b[1;33m\u001b[0m\u001b[1;33m\u001b[0m\u001b[0m\n\u001b[0;32m     24\u001b[0m \u001b[0mtest_y\u001b[0m\u001b[1;33m=\u001b[0m\u001b[0mtest_y\u001b[0m\u001b[1;33m.\u001b[0m\u001b[0mreset_index\u001b[0m\u001b[1;33m(\u001b[0m\u001b[0mdrop\u001b[0m\u001b[1;33m=\u001b[0m\u001b[1;32mTrue\u001b[0m\u001b[1;33m)\u001b[0m\u001b[1;33m\u001b[0m\u001b[1;33m\u001b[0m\u001b[0m\n\u001b[1;32m---> 25\u001b[1;33m \u001b[0msearch_params\u001b[0m\u001b[1;33m(\u001b[0m\u001b[0mx\u001b[0m\u001b[1;33m=\u001b[0m\u001b[0mx_train\u001b[0m\u001b[1;33m,\u001b[0m\u001b[0my\u001b[0m\u001b[1;33m=\u001b[0m\u001b[0mtrain_y\u001b[0m\u001b[1;33m,\u001b[0m\u001b[0mparams_grid\u001b[0m\u001b[1;33m=\u001b[0m\u001b[0mparams_dict\u001b[0m\u001b[1;33m,\u001b[0m\u001b[0mn_estimators\u001b[0m\u001b[1;33m=\u001b[0m\u001b[1;36m1000\u001b[0m\u001b[1;33m)\u001b[0m\u001b[1;33m\u001b[0m\u001b[1;33m\u001b[0m\u001b[0m\n\u001b[0m",
      "\u001b[1;32m<ipython-input-13-9601577a686c>\u001b[0m in \u001b[0;36msearch_params\u001b[1;34m(x, y, params_grid, n_estimators, cv, silent)\u001b[0m\n\u001b[0;32m     45\u001b[0m         \u001b[1;32mif\u001b[0m \u001b[0msilent\u001b[0m\u001b[1;33m==\u001b[0m\u001b[1;36m0\u001b[0m\u001b[1;33m:\u001b[0m\u001b[1;33m\u001b[0m\u001b[1;33m\u001b[0m\u001b[0m\n\u001b[0;32m     46\u001b[0m             \u001b[0mprint\u001b[0m\u001b[1;33m(\u001b[0m\u001b[1;34m\"开始实验第{}组参数：\"\u001b[0m\u001b[1;33m.\u001b[0m\u001b[0mformat\u001b[0m\u001b[1;33m(\u001b[0m\u001b[0mi\u001b[0m\u001b[1;33m)\u001b[0m\u001b[1;33m,\u001b[0m\u001b[0mparams\u001b[0m\u001b[1;33m)\u001b[0m\u001b[1;33m\u001b[0m\u001b[1;33m\u001b[0m\u001b[0m\n\u001b[1;32m---> 47\u001b[1;33m         \u001b[0mrmse\u001b[0m\u001b[1;33m=\u001b[0m\u001b[0mtrain_cv\u001b[0m\u001b[1;33m(\u001b[0m\u001b[0mdata\u001b[0m\u001b[1;33m=\u001b[0m\u001b[0mx\u001b[0m\u001b[1;33m,\u001b[0m\u001b[0mtarget\u001b[0m\u001b[1;33m=\u001b[0m\u001b[0my\u001b[0m\u001b[1;33m,\u001b[0m\u001b[0mparams\u001b[0m\u001b[1;33m=\u001b[0m\u001b[0mparams\u001b[0m\u001b[1;33m,\u001b[0m\u001b[0mnum_round\u001b[0m\u001b[1;33m=\u001b[0m\u001b[0mn_estimators\u001b[0m\u001b[1;33m,\u001b[0m\u001b[0mk_fold\u001b[0m\u001b[1;33m=\u001b[0m\u001b[0mcv\u001b[0m\u001b[1;33m)\u001b[0m\u001b[1;33m\u001b[0m\u001b[1;33m\u001b[0m\u001b[0m\n\u001b[0m\u001b[0;32m     48\u001b[0m         \u001b[1;32mif\u001b[0m \u001b[0msilent\u001b[0m\u001b[1;33m==\u001b[0m\u001b[1;36m0\u001b[0m\u001b[1;33m:\u001b[0m\u001b[1;33m\u001b[0m\u001b[1;33m\u001b[0m\u001b[0m\n\u001b[0;32m     49\u001b[0m             \u001b[0mprint\u001b[0m\u001b[1;33m(\u001b[0m\u001b[1;34m\"第{}组参数平均rmse：{}\"\u001b[0m\u001b[1;33m.\u001b[0m\u001b[0mformat\u001b[0m\u001b[1;33m(\u001b[0m\u001b[0mi\u001b[0m\u001b[1;33m,\u001b[0m\u001b[0mrmse\u001b[0m\u001b[1;33m)\u001b[0m\u001b[1;33m)\u001b[0m\u001b[1;33m\u001b[0m\u001b[1;33m\u001b[0m\u001b[0m\n",
      "\u001b[1;32m<ipython-input-13-9601577a686c>\u001b[0m in \u001b[0;36mtrain_cv\u001b[1;34m(data, target, params, num_round, k_fold, silent)\u001b[0m\n\u001b[0;32m     16\u001b[0m             \u001b[0mprint\u001b[0m\u001b[1;33m(\u001b[0m\u001b[1;34m\"开始第{}/{}折验证：\"\u001b[0m\u001b[1;33m.\u001b[0m\u001b[0mformat\u001b[0m\u001b[1;33m(\u001b[0m\u001b[0mi\u001b[0m\u001b[1;33m,\u001b[0m\u001b[0mk_fold\u001b[0m\u001b[1;33m)\u001b[0m\u001b[1;33m)\u001b[0m\u001b[1;33m\u001b[0m\u001b[1;33m\u001b[0m\u001b[0m\n\u001b[0;32m     17\u001b[0m         \u001b[1;31m#模型训练\u001b[0m\u001b[1;33m\u001b[0m\u001b[1;33m\u001b[0m\u001b[1;33m\u001b[0m\u001b[0m\n\u001b[1;32m---> 18\u001b[1;33m         \u001b[0mbst\u001b[0m \u001b[1;33m=\u001b[0m \u001b[0mxgb\u001b[0m\u001b[1;33m.\u001b[0m\u001b[0mtrain\u001b[0m\u001b[1;33m(\u001b[0m\u001b[0mparams\u001b[0m\u001b[1;33m,\u001b[0m \u001b[0mdtrain\u001b[0m\u001b[1;33m,\u001b[0m \u001b[0mnum_round\u001b[0m\u001b[1;33m)\u001b[0m\u001b[1;33m\u001b[0m\u001b[1;33m\u001b[0m\u001b[0m\n\u001b[0m\u001b[0;32m     19\u001b[0m \u001b[1;33m\u001b[0m\u001b[0m\n\u001b[0;32m     20\u001b[0m         \u001b[1;31m#6.模型预测\u001b[0m\u001b[1;33m\u001b[0m\u001b[1;33m\u001b[0m\u001b[1;33m\u001b[0m\u001b[0m\n",
      "\u001b[1;32mG:\\ProgramData\\Anaconda3\\lib\\site-packages\\xgboost\\training.py\u001b[0m in \u001b[0;36mtrain\u001b[1;34m(params, dtrain, num_boost_round, evals, obj, feval, maximize, early_stopping_rounds, evals_result, verbose_eval, xgb_model, callbacks)\u001b[0m\n\u001b[0;32m    207\u001b[0m                            \u001b[0mevals\u001b[0m\u001b[1;33m=\u001b[0m\u001b[0mevals\u001b[0m\u001b[1;33m,\u001b[0m\u001b[1;33m\u001b[0m\u001b[1;33m\u001b[0m\u001b[0m\n\u001b[0;32m    208\u001b[0m                            \u001b[0mobj\u001b[0m\u001b[1;33m=\u001b[0m\u001b[0mobj\u001b[0m\u001b[1;33m,\u001b[0m \u001b[0mfeval\u001b[0m\u001b[1;33m=\u001b[0m\u001b[0mfeval\u001b[0m\u001b[1;33m,\u001b[0m\u001b[1;33m\u001b[0m\u001b[1;33m\u001b[0m\u001b[0m\n\u001b[1;32m--> 209\u001b[1;33m                            xgb_model=xgb_model, callbacks=callbacks)\n\u001b[0m\u001b[0;32m    210\u001b[0m \u001b[1;33m\u001b[0m\u001b[0m\n\u001b[0;32m    211\u001b[0m \u001b[1;33m\u001b[0m\u001b[0m\n",
      "\u001b[1;32mG:\\ProgramData\\Anaconda3\\lib\\site-packages\\xgboost\\training.py\u001b[0m in \u001b[0;36m_train_internal\u001b[1;34m(params, dtrain, num_boost_round, evals, obj, feval, xgb_model, callbacks)\u001b[0m\n\u001b[0;32m     72\u001b[0m         \u001b[1;31m# Skip the first update if it is a recovery step.\u001b[0m\u001b[1;33m\u001b[0m\u001b[1;33m\u001b[0m\u001b[1;33m\u001b[0m\u001b[0m\n\u001b[0;32m     73\u001b[0m         \u001b[1;32mif\u001b[0m \u001b[0mversion\u001b[0m \u001b[1;33m%\u001b[0m \u001b[1;36m2\u001b[0m \u001b[1;33m==\u001b[0m \u001b[1;36m0\u001b[0m\u001b[1;33m:\u001b[0m\u001b[1;33m\u001b[0m\u001b[1;33m\u001b[0m\u001b[0m\n\u001b[1;32m---> 74\u001b[1;33m             \u001b[0mbst\u001b[0m\u001b[1;33m.\u001b[0m\u001b[0mupdate\u001b[0m\u001b[1;33m(\u001b[0m\u001b[0mdtrain\u001b[0m\u001b[1;33m,\u001b[0m \u001b[0mi\u001b[0m\u001b[1;33m,\u001b[0m \u001b[0mobj\u001b[0m\u001b[1;33m)\u001b[0m\u001b[1;33m\u001b[0m\u001b[1;33m\u001b[0m\u001b[0m\n\u001b[0m\u001b[0;32m     75\u001b[0m             \u001b[0mbst\u001b[0m\u001b[1;33m.\u001b[0m\u001b[0msave_rabit_checkpoint\u001b[0m\u001b[1;33m(\u001b[0m\u001b[1;33m)\u001b[0m\u001b[1;33m\u001b[0m\u001b[1;33m\u001b[0m\u001b[0m\n\u001b[0;32m     76\u001b[0m             \u001b[0mversion\u001b[0m \u001b[1;33m+=\u001b[0m \u001b[1;36m1\u001b[0m\u001b[1;33m\u001b[0m\u001b[1;33m\u001b[0m\u001b[0m\n",
      "\u001b[1;32mG:\\ProgramData\\Anaconda3\\lib\\site-packages\\xgboost\\core.py\u001b[0m in \u001b[0;36mupdate\u001b[1;34m(self, dtrain, iteration, fobj)\u001b[0m\n\u001b[0;32m   1247\u001b[0m             _check_call(_LIB.XGBoosterUpdateOneIter(self.handle,\n\u001b[0;32m   1248\u001b[0m                                                     \u001b[0mctypes\u001b[0m\u001b[1;33m.\u001b[0m\u001b[0mc_int\u001b[0m\u001b[1;33m(\u001b[0m\u001b[0miteration\u001b[0m\u001b[1;33m)\u001b[0m\u001b[1;33m,\u001b[0m\u001b[1;33m\u001b[0m\u001b[1;33m\u001b[0m\u001b[0m\n\u001b[1;32m-> 1249\u001b[1;33m                                                     dtrain.handle))\n\u001b[0m\u001b[0;32m   1250\u001b[0m         \u001b[1;32melse\u001b[0m\u001b[1;33m:\u001b[0m\u001b[1;33m\u001b[0m\u001b[1;33m\u001b[0m\u001b[0m\n\u001b[0;32m   1251\u001b[0m             \u001b[0mpred\u001b[0m \u001b[1;33m=\u001b[0m \u001b[0mself\u001b[0m\u001b[1;33m.\u001b[0m\u001b[0mpredict\u001b[0m\u001b[1;33m(\u001b[0m\u001b[0mdtrain\u001b[0m\u001b[1;33m,\u001b[0m \u001b[0mtraining\u001b[0m\u001b[1;33m=\u001b[0m\u001b[1;32mTrue\u001b[0m\u001b[1;33m)\u001b[0m\u001b[1;33m\u001b[0m\u001b[1;33m\u001b[0m\u001b[0m\n",
      "\u001b[1;31mKeyboardInterrupt\u001b[0m: "
     ]
    }
   ],
   "source": [
    "params_dict={\n",
    "    \"objective\":'reg:linear',\n",
    "    'eta':[0.01,0.1,0.5],\n",
    "    'gamma': [0.01,0.05,0.1],\n",
    "    'silent': 1,\n",
    "    'max_depth':[15,25,35], \n",
    "    'min_child_weight':[0.5,1,3],\n",
    "}\n",
    "cols=['小区房屋出租数量', '楼层', '总楼层', '房屋面积','居住状态', '卧室数量',\n",
    "       '卫的数量',  '位置',  '地铁站点', '距离', '装修情况', \n",
    "       '新朝向', '房+卫+厅', '房/总', '卫/总', '厅/总', '卧室面积', '楼层比', '户型','平均值特征1',\n",
    "       '平均值特征2','有地铁','小区线路数','位置线路数','小区条数大于100','小区平均值特征','朝向平均值特征',\n",
    "           '站点平均值特征','位置平均值特征']\n",
    "#1.获取数据集\n",
    "train_x,test_x,train_y,test_y=d\n",
    "#获取原始特征对应的新特征下标\n",
    "index=[]\n",
    "for col in cols:\n",
    "    index.extend(f_map[col])\n",
    "x_train=train_x[:50000,index]#只用前50000条数据做运算\n",
    "x_test=test_x[:,index]\n",
    "#由于要用新下标访问，所以要重置索引\n",
    "train_y=train_y.reset_index(drop=True)[:50000]\n",
    "test_y=test_y.reset_index(drop=True)\n",
    "search_params(x=x_train,y=train_y,params_grid=params_dict,n_estimators=1000)"
   ]
  },
  {
   "cell_type": "code",
   "execution_count": 15,
   "metadata": {},
   "outputs": [],
   "source": [
    "# 全数据集训练\n",
    "#1.获取数据集\n",
    "train_x,test_x,train_y,test_y=d\n",
    "#获取原始特征对应的新特征下标\n",
    "index=[]\n",
    "for col in cols:\n",
    "    index.extend(f_map[col])\n",
    "x_train=train_x[:,index]\n",
    "x_test=test_x[:,index]\n",
    "#由于要用新下标访问，所以要重置索引\n",
    "train_y=train_y.reset_index(drop=True)\n",
    "test_y=test_y.reset_index(drop=True)"
   ]
  },
  {
   "cell_type": "markdown",
   "metadata": {},
   "source": [
    "## 利用搜索的参数训练模型"
   ]
  },
  {
   "cell_type": "code",
   "execution_count": 19,
   "metadata": {},
   "outputs": [
    {
     "data": {
      "text/plain": [
       "1.6782888625446752"
      ]
     },
     "execution_count": 19,
     "metadata": {},
     "output_type": "execute_result"
    }
   ],
   "source": [
    "# sklearn接口\n",
    "# xgb_model = xgb.XGBRegressor(max_depth=5, learning_rate=0.01, n_estimators=500,verbosity=1, objective='reg:linear',random_state=12,)\n",
    "# xgb_model.fit(new_train_x, train_y, early_stopping_rounds=10, eval_metric=\"rmse\",\n",
    "#         eval_set=[(new_test_x, test_y)])\n",
    "\n",
    "\n",
    "# 原生接口\n",
    "params={\n",
    "    \"objective\":'reg:linear',\n",
    "    'eta':0.01,\n",
    "    'gamma': 0.05,\n",
    "    'silent': 1,\n",
    "    'max_depth':25, \n",
    "    'min_child_weight':0.5,\n",
    "    'sub_sample':0.6,\n",
    "    'reg_alpha':0.5,\n",
    "    'reg_lambda':0.8,\n",
    "    'colsample_bytree':0.5\n",
    "}\n",
    "dtrain = xgb.DMatrix(x_train,train_y)\n",
    "dtest = xgb.DMatrix(x_test,test_y)\n",
    "# bst = xgb.train(params, dtrain, num_boost_round=1500)\n",
    "bst = xgb.train(params, dtrain, num_boost_round=500)\n",
    "        \n",
    "#6.模型预测\n",
    "preds = bst.predict(dtest)\n",
    "preds=np.exp(preds)-1#转换成真实的租金\n",
    "y_true=np.exp(test_y)-1\n",
    "rmse=np.sqrt(mean_squared_error(y_true,preds))\n",
    "rmse"
   ]
  },
  {
   "cell_type": "code",
   "execution_count": 20,
   "metadata": {},
   "outputs": [
    {
     "name": "stdout",
     "output_type": "stream",
     "text": [
      "Fitting 5 folds for each of 5 candidates, totalling 25 fits\n"
     ]
    },
    {
     "name": "stderr",
     "output_type": "stream",
     "text": [
      "[Parallel(n_jobs=1)]: Using backend SequentialBackend with 1 concurrent workers.\n",
      "[Parallel(n_jobs=1)]: Done  25 out of  25 | elapsed: 46.5min finished\n"
     ]
    },
    {
     "ename": "AttributeError",
     "evalue": "'GridSearchCV' object has no attribute 'grid_scores_'",
     "output_type": "error",
     "traceback": [
      "\u001b[1;31m---------------------------------------------------------------------------\u001b[0m",
      "\u001b[1;31mAttributeError\u001b[0m                            Traceback (most recent call last)",
      "\u001b[1;32m<ipython-input-20-9596de0f0b5c>\u001b[0m in \u001b[0;36m<module>\u001b[1;34m\u001b[0m\n\u001b[0;32m      7\u001b[0m \u001b[0moptimized_GBM\u001b[0m \u001b[1;33m=\u001b[0m \u001b[0mGridSearchCV\u001b[0m\u001b[1;33m(\u001b[0m\u001b[0mestimator\u001b[0m\u001b[1;33m=\u001b[0m\u001b[0mmodel\u001b[0m\u001b[1;33m,\u001b[0m \u001b[0mparam_grid\u001b[0m\u001b[1;33m=\u001b[0m\u001b[0mcv_params\u001b[0m\u001b[1;33m,\u001b[0m \u001b[0mscoring\u001b[0m\u001b[1;33m=\u001b[0m\u001b[1;34m'r2'\u001b[0m\u001b[1;33m,\u001b[0m \u001b[0mcv\u001b[0m\u001b[1;33m=\u001b[0m\u001b[1;36m5\u001b[0m\u001b[1;33m,\u001b[0m \u001b[0mverbose\u001b[0m\u001b[1;33m=\u001b[0m\u001b[1;36m1\u001b[0m\u001b[1;33m)\u001b[0m\u001b[1;33m\u001b[0m\u001b[1;33m\u001b[0m\u001b[0m\n\u001b[0;32m      8\u001b[0m \u001b[0moptimized_GBM\u001b[0m\u001b[1;33m.\u001b[0m\u001b[0mfit\u001b[0m\u001b[1;33m(\u001b[0m\u001b[0mx_train\u001b[0m\u001b[1;33m,\u001b[0m \u001b[0mtrain_y\u001b[0m\u001b[1;33m)\u001b[0m\u001b[1;33m\u001b[0m\u001b[1;33m\u001b[0m\u001b[0m\n\u001b[1;32m----> 9\u001b[1;33m \u001b[0mevalute_result\u001b[0m \u001b[1;33m=\u001b[0m \u001b[0moptimized_GBM\u001b[0m\u001b[1;33m.\u001b[0m\u001b[0mgrid_scores_\u001b[0m\u001b[1;33m\u001b[0m\u001b[1;33m\u001b[0m\u001b[0m\n\u001b[0m\u001b[0;32m     10\u001b[0m \u001b[0mprint\u001b[0m\u001b[1;33m(\u001b[0m\u001b[1;34m'每轮迭代运行结果:{0}'\u001b[0m\u001b[1;33m.\u001b[0m\u001b[0mformat\u001b[0m\u001b[1;33m(\u001b[0m\u001b[0mevalute_result\u001b[0m\u001b[1;33m)\u001b[0m\u001b[1;33m)\u001b[0m\u001b[1;33m\u001b[0m\u001b[1;33m\u001b[0m\u001b[0m\n\u001b[0;32m     11\u001b[0m \u001b[0mprint\u001b[0m\u001b[1;33m(\u001b[0m\u001b[1;34m'参数的最佳取值：{0}'\u001b[0m\u001b[1;33m.\u001b[0m\u001b[0mformat\u001b[0m\u001b[1;33m(\u001b[0m\u001b[0moptimized_GBM\u001b[0m\u001b[1;33m.\u001b[0m\u001b[0mbest_params_\u001b[0m\u001b[1;33m)\u001b[0m\u001b[1;33m)\u001b[0m\u001b[1;33m\u001b[0m\u001b[1;33m\u001b[0m\u001b[0m\n",
      "\u001b[1;31mAttributeError\u001b[0m: 'GridSearchCV' object has no attribute 'grid_scores_'"
     ]
    }
   ],
   "source": [
    "# 网格搜索和交叉验证\n",
    "cv_params = {'n_estimators': [400, 500, 600, 700, 800]}\n",
    "other_params = {'learning_rate': 0.1, 'n_estimators': 500, 'max_depth': 5, 'min_child_weight': 1, 'seed': 0,\n",
    "                'subsample': 0.8, 'colsample_bytree': 0.8, 'gamma': 0, 'reg_alpha': 0, 'reg_lambda': 1}\n",
    "\n",
    "model = xgb.XGBRegressor(**other_params)\n",
    "optimized_GBM = GridSearchCV(estimator=model, param_grid=cv_params, scoring='r2', cv=5, verbose=1)\n",
    "optimized_GBM.fit(x_train, train_y)\n",
    "evalute_result = optimized_GBM.grid_scores_\n",
    "print('每轮迭代运行结果:{0}'.format(evalute_result))\n",
    "print('参数的最佳取值：{0}'.format(optimized_GBM.best_params_))\n",
    "print('最佳模型得分:{0}'.format(optimized_GBM.best_score_))\n"
   ]
  },
  {
   "cell_type": "code",
   "execution_count": null,
   "metadata": {},
   "outputs": [],
   "source": []
  }
 ],
 "metadata": {
  "kernelspec": {
   "display_name": "Python 3",
   "language": "python",
   "name": "python3"
  },
  "language_info": {
   "codemirror_mode": {
    "name": "ipython",
    "version": 3
   },
   "file_extension": ".py",
   "mimetype": "text/x-python",
   "name": "python",
   "nbconvert_exporter": "python",
   "pygments_lexer": "ipython3",
   "version": "3.7.4"
  }
 },
 "nbformat": 4,
 "nbformat_minor": 2
}
