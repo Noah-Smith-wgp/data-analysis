{
 "cells": [
  {
   "cell_type": "code",
   "execution_count": 2,
   "metadata": {},
   "outputs": [],
   "source": [
    "import matplotlib.pyplot as plt\n",
    "import pandas as pd\n",
    "import numpy as np\n",
    "import seaborn as sns\n",
    "import warnings\n",
    "warnings.filterwarnings('ignore')#忽略一些警告\n",
    "#显示所有结果\n",
    "plt.rcParams['font.sans-serif']=['SimHei']\n",
    "plt.rcParams['axes.unicode_minus']=False"
   ]
  },
  {
   "cell_type": "markdown",
   "metadata": {},
   "source": [
    "# 导入数据"
   ]
  },
  {
   "cell_type": "code",
   "execution_count": 3,
   "metadata": {},
   "outputs": [
    {
     "data": {
      "text/html": [
       "<div>\n",
       "<style scoped>\n",
       "    .dataframe tbody tr th:only-of-type {\n",
       "        vertical-align: middle;\n",
       "    }\n",
       "\n",
       "    .dataframe tbody tr th {\n",
       "        vertical-align: top;\n",
       "    }\n",
       "\n",
       "    .dataframe thead th {\n",
       "        text-align: right;\n",
       "    }\n",
       "</style>\n",
       "<table border=\"1\" class=\"dataframe\">\n",
       "  <thead>\n",
       "    <tr style=\"text-align: right;\">\n",
       "      <th></th>\n",
       "      <th>时间</th>\n",
       "      <th>小区名</th>\n",
       "      <th>小区房屋出租数量</th>\n",
       "      <th>楼层</th>\n",
       "      <th>总楼层</th>\n",
       "      <th>房屋面积</th>\n",
       "      <th>房屋朝向</th>\n",
       "      <th>居住状态</th>\n",
       "      <th>卧室数量</th>\n",
       "      <th>厅的数量</th>\n",
       "      <th>卫的数量</th>\n",
       "      <th>出租方式</th>\n",
       "      <th>区</th>\n",
       "      <th>位置</th>\n",
       "      <th>地铁线路</th>\n",
       "      <th>地铁站点</th>\n",
       "      <th>距离</th>\n",
       "      <th>装修情况</th>\n",
       "      <th>月租金</th>\n",
       "    </tr>\n",
       "  </thead>\n",
       "  <tbody>\n",
       "    <tr>\n",
       "      <td>0</td>\n",
       "      <td>1</td>\n",
       "      <td>3072</td>\n",
       "      <td>0.128906</td>\n",
       "      <td>2</td>\n",
       "      <td>0.236364</td>\n",
       "      <td>0.008628</td>\n",
       "      <td>东南</td>\n",
       "      <td>NaN</td>\n",
       "      <td>1</td>\n",
       "      <td>1</td>\n",
       "      <td>1</td>\n",
       "      <td>NaN</td>\n",
       "      <td>11.0</td>\n",
       "      <td>118.0</td>\n",
       "      <td>2.0</td>\n",
       "      <td>40.0</td>\n",
       "      <td>0.764167</td>\n",
       "      <td>NaN</td>\n",
       "      <td>5.602716</td>\n",
       "    </tr>\n",
       "    <tr>\n",
       "      <td>1</td>\n",
       "      <td>1</td>\n",
       "      <td>3152</td>\n",
       "      <td>0.132812</td>\n",
       "      <td>1</td>\n",
       "      <td>0.381818</td>\n",
       "      <td>0.017046</td>\n",
       "      <td>东</td>\n",
       "      <td>NaN</td>\n",
       "      <td>1</td>\n",
       "      <td>0</td>\n",
       "      <td>0</td>\n",
       "      <td>NaN</td>\n",
       "      <td>10.0</td>\n",
       "      <td>100.0</td>\n",
       "      <td>4.0</td>\n",
       "      <td>58.0</td>\n",
       "      <td>0.709167</td>\n",
       "      <td>NaN</td>\n",
       "      <td>16.977929</td>\n",
       "    </tr>\n",
       "    <tr>\n",
       "      <td>2</td>\n",
       "      <td>1</td>\n",
       "      <td>5575</td>\n",
       "      <td>0.042969</td>\n",
       "      <td>0</td>\n",
       "      <td>0.290909</td>\n",
       "      <td>0.010593</td>\n",
       "      <td>东南</td>\n",
       "      <td>NaN</td>\n",
       "      <td>2</td>\n",
       "      <td>1</td>\n",
       "      <td>2</td>\n",
       "      <td>NaN</td>\n",
       "      <td>12.0</td>\n",
       "      <td>130.0</td>\n",
       "      <td>5.0</td>\n",
       "      <td>37.0</td>\n",
       "      <td>0.572500</td>\n",
       "      <td>NaN</td>\n",
       "      <td>8.998302</td>\n",
       "    </tr>\n",
       "    <tr>\n",
       "      <td>3</td>\n",
       "      <td>1</td>\n",
       "      <td>3103</td>\n",
       "      <td>0.085938</td>\n",
       "      <td>2</td>\n",
       "      <td>0.581818</td>\n",
       "      <td>0.019199</td>\n",
       "      <td>南</td>\n",
       "      <td>NaN</td>\n",
       "      <td>3</td>\n",
       "      <td>2</td>\n",
       "      <td>2</td>\n",
       "      <td>NaN</td>\n",
       "      <td>7.0</td>\n",
       "      <td>90.0</td>\n",
       "      <td>2.0</td>\n",
       "      <td>63.0</td>\n",
       "      <td>0.658333</td>\n",
       "      <td>NaN</td>\n",
       "      <td>5.602716</td>\n",
       "    </tr>\n",
       "    <tr>\n",
       "      <td>4</td>\n",
       "      <td>1</td>\n",
       "      <td>5182</td>\n",
       "      <td>0.214844</td>\n",
       "      <td>0</td>\n",
       "      <td>0.545455</td>\n",
       "      <td>0.010427</td>\n",
       "      <td>东北</td>\n",
       "      <td>NaN</td>\n",
       "      <td>2</td>\n",
       "      <td>1</td>\n",
       "      <td>1</td>\n",
       "      <td>NaN</td>\n",
       "      <td>3.0</td>\n",
       "      <td>31.0</td>\n",
       "      <td>NaN</td>\n",
       "      <td>NaN</td>\n",
       "      <td>NaN</td>\n",
       "      <td>NaN</td>\n",
       "      <td>7.300509</td>\n",
       "    </tr>\n",
       "  </tbody>\n",
       "</table>\n",
       "</div>"
      ],
      "text/plain": [
       "   时间   小区名  小区房屋出租数量  楼层       总楼层      房屋面积 房屋朝向  居住状态  卧室数量  厅的数量  卫的数量  \\\n",
       "0   1  3072  0.128906   2  0.236364  0.008628   东南   NaN     1     1     1   \n",
       "1   1  3152  0.132812   1  0.381818  0.017046    东   NaN     1     0     0   \n",
       "2   1  5575  0.042969   0  0.290909  0.010593   东南   NaN     2     1     2   \n",
       "3   1  3103  0.085938   2  0.581818  0.019199    南   NaN     3     2     2   \n",
       "4   1  5182  0.214844   0  0.545455  0.010427   东北   NaN     2     1     1   \n",
       "\n",
       "   出租方式     区     位置  地铁线路  地铁站点        距离  装修情况        月租金  \n",
       "0   NaN  11.0  118.0   2.0  40.0  0.764167   NaN   5.602716  \n",
       "1   NaN  10.0  100.0   4.0  58.0  0.709167   NaN  16.977929  \n",
       "2   NaN  12.0  130.0   5.0  37.0  0.572500   NaN   8.998302  \n",
       "3   NaN   7.0   90.0   2.0  63.0  0.658333   NaN   5.602716  \n",
       "4   NaN   3.0   31.0   NaN   NaN       NaN   NaN   7.300509  "
      ]
     },
     "execution_count": 3,
     "metadata": {},
     "output_type": "execute_result"
    }
   ],
   "source": [
    "train=pd.read_csv(\"data/train.csv\")\n",
    "test=pd.read_csv(\"data/test.csv\")\n",
    "train.head()"
   ]
  },
  {
   "cell_type": "code",
   "execution_count": 4,
   "metadata": {
    "scrolled": true
   },
   "outputs": [
    {
     "name": "stdout",
     "output_type": "stream",
     "text": [
      "<class 'pandas.core.frame.DataFrame'>\n",
      "RangeIndex: 196539 entries, 0 to 196538\n",
      "Data columns (total 19 columns):\n",
      "时间          196539 non-null int64\n",
      "小区名         196539 non-null int64\n",
      "小区房屋出租数量    195538 non-null float64\n",
      "楼层          196539 non-null int64\n",
      "总楼层         196539 non-null float64\n",
      "房屋面积        196539 non-null float64\n",
      "房屋朝向        196539 non-null object\n",
      "居住状态        20138 non-null float64\n",
      "卧室数量        196539 non-null int64\n",
      "厅的数量        196539 non-null int64\n",
      "卫的数量        196539 non-null int64\n",
      "出租方式        24230 non-null float64\n",
      "区           196508 non-null float64\n",
      "位置          196508 non-null float64\n",
      "地铁线路        91778 non-null float64\n",
      "地铁站点        91778 non-null float64\n",
      "距离          91778 non-null float64\n",
      "装修情况        18492 non-null float64\n",
      "月租金         196539 non-null float64\n",
      "dtypes: float64(12), int64(6), object(1)\n",
      "memory usage: 28.5+ MB\n"
     ]
    }
   ],
   "source": [
    "train.info()"
   ]
  },
  {
   "cell_type": "code",
   "execution_count": 5,
   "metadata": {},
   "outputs": [
    {
     "data": {
      "text/plain": [
       "1.0    21814\n",
       "0.0     2416\n",
       "Name: 出租方式, dtype: int64"
      ]
     },
     "execution_count": 5,
     "metadata": {},
     "output_type": "execute_result"
    }
   ],
   "source": [
    "train[\"出租方式\"].value_counts()\n"
   ]
  },
  {
   "cell_type": "code",
   "execution_count": 6,
   "metadata": {},
   "outputs": [
    {
     "data": {
      "text/plain": [
       "2.0    9265\n",
       "6.0    7293\n",
       "1.0    1154\n",
       "4.0     542\n",
       "3.0     214\n",
       "5.0      24\n",
       "Name: 装修情况, dtype: int64"
      ]
     },
     "execution_count": 6,
     "metadata": {},
     "output_type": "execute_result"
    }
   ],
   "source": [
    "train[\"装修情况\"].value_counts()\n"
   ]
  },
  {
   "cell_type": "code",
   "execution_count": 7,
   "metadata": {},
   "outputs": [
    {
     "data": {
      "text/plain": [
       "3.0    17087\n",
       "1.0     2483\n",
       "2.0      568\n",
       "Name: 居住状态, dtype: int64"
      ]
     },
     "execution_count": 7,
     "metadata": {},
     "output_type": "execute_result"
    }
   ],
   "source": [
    "train[\"居住状态\"].value_counts()"
   ]
  },
  {
   "cell_type": "code",
   "execution_count": 8,
   "metadata": {},
   "outputs": [
    {
     "data": {
      "text/html": [
       "<div>\n",
       "<style scoped>\n",
       "    .dataframe tbody tr th:only-of-type {\n",
       "        vertical-align: middle;\n",
       "    }\n",
       "\n",
       "    .dataframe tbody tr th {\n",
       "        vertical-align: top;\n",
       "    }\n",
       "\n",
       "    .dataframe thead th {\n",
       "        text-align: right;\n",
       "    }\n",
       "</style>\n",
       "<table border=\"1\" class=\"dataframe\">\n",
       "  <thead>\n",
       "    <tr style=\"text-align: right;\">\n",
       "      <th></th>\n",
       "      <th>小区名</th>\n",
       "      <th>地铁线路</th>\n",
       "    </tr>\n",
       "  </thead>\n",
       "  <tbody>\n",
       "    <tr>\n",
       "      <td>107337</td>\n",
       "      <td>0</td>\n",
       "      <td>3.0</td>\n",
       "    </tr>\n",
       "    <tr>\n",
       "      <td>3620</td>\n",
       "      <td>1</td>\n",
       "      <td>3.0</td>\n",
       "    </tr>\n",
       "    <tr>\n",
       "      <td>41286</td>\n",
       "      <td>2</td>\n",
       "      <td>5.0</td>\n",
       "    </tr>\n",
       "    <tr>\n",
       "      <td>8211</td>\n",
       "      <td>4</td>\n",
       "      <td>NaN</td>\n",
       "    </tr>\n",
       "    <tr>\n",
       "      <td>55962</td>\n",
       "      <td>5</td>\n",
       "      <td>NaN</td>\n",
       "    </tr>\n",
       "    <tr>\n",
       "      <td>...</td>\n",
       "      <td>...</td>\n",
       "      <td>...</td>\n",
       "    </tr>\n",
       "    <tr>\n",
       "      <td>45347</td>\n",
       "      <td>6625</td>\n",
       "      <td>NaN</td>\n",
       "    </tr>\n",
       "    <tr>\n",
       "      <td>6622</td>\n",
       "      <td>6626</td>\n",
       "      <td>5.0</td>\n",
       "    </tr>\n",
       "    <tr>\n",
       "      <td>1513</td>\n",
       "      <td>6626</td>\n",
       "      <td>1.0</td>\n",
       "    </tr>\n",
       "    <tr>\n",
       "      <td>1727</td>\n",
       "      <td>6627</td>\n",
       "      <td>NaN</td>\n",
       "    </tr>\n",
       "    <tr>\n",
       "      <td>2542</td>\n",
       "      <td>6627</td>\n",
       "      <td>1.0</td>\n",
       "    </tr>\n",
       "  </tbody>\n",
       "</table>\n",
       "<p>6052 rows × 2 columns</p>\n",
       "</div>"
      ],
      "text/plain": [
       "         小区名  地铁线路\n",
       "107337     0   3.0\n",
       "3620       1   3.0\n",
       "41286      2   5.0\n",
       "8211       4   NaN\n",
       "55962      5   NaN\n",
       "...      ...   ...\n",
       "45347   6625   NaN\n",
       "6622    6626   5.0\n",
       "1513    6626   1.0\n",
       "1727    6627   NaN\n",
       "2542    6627   1.0\n",
       "\n",
       "[6052 rows x 2 columns]"
      ]
     },
     "execution_count": 8,
     "metadata": {},
     "output_type": "execute_result"
    }
   ],
   "source": [
    "train.drop_duplicates(['小区名','地铁线路'])[['小区名','地铁线路']].sort_values(by='小区名')"
   ]
  },
  {
   "cell_type": "markdown",
   "metadata": {},
   "source": [
    "## 设置后面要用的填充值"
   ]
  },
  {
   "cell_type": "code",
   "execution_count": 18,
   "metadata": {},
   "outputs": [],
   "source": [
    "distance_value_for_fill = 2\n",
    "line_value_for_fill = 0\n",
    "station_value_for_fill = 0\n",
    "state_value_for_fill = 0\n",
    "decoration_value_for_fill = -1\n",
    "rent_value_for_fill = -1"
   ]
  },
  {
   "cell_type": "markdown",
   "metadata": {},
   "source": [
    "## 缺失值处理"
   ]
  },
  {
   "cell_type": "code",
   "execution_count": 27,
   "metadata": {},
   "outputs": [
    {
     "data": {
      "text/html": [
       "<div>\n",
       "<style scoped>\n",
       "    .dataframe tbody tr th:only-of-type {\n",
       "        vertical-align: middle;\n",
       "    }\n",
       "\n",
       "    .dataframe tbody tr th {\n",
       "        vertical-align: top;\n",
       "    }\n",
       "\n",
       "    .dataframe thead th {\n",
       "        text-align: right;\n",
       "    }\n",
       "</style>\n",
       "<table border=\"1\" class=\"dataframe\">\n",
       "  <thead>\n",
       "    <tr style=\"text-align: right;\">\n",
       "      <th></th>\n",
       "      <th>缺失值百分比</th>\n",
       "    </tr>\n",
       "  </thead>\n",
       "  <tbody>\n",
       "    <tr>\n",
       "      <td>装修情况</td>\n",
       "      <td>90.591180</td>\n",
       "    </tr>\n",
       "    <tr>\n",
       "      <td>居住状态</td>\n",
       "      <td>89.753688</td>\n",
       "    </tr>\n",
       "    <tr>\n",
       "      <td>出租方式</td>\n",
       "      <td>87.671658</td>\n",
       "    </tr>\n",
       "    <tr>\n",
       "      <td>距离</td>\n",
       "      <td>53.302907</td>\n",
       "    </tr>\n",
       "    <tr>\n",
       "      <td>地铁站点</td>\n",
       "      <td>53.302907</td>\n",
       "    </tr>\n",
       "    <tr>\n",
       "      <td>地铁线路</td>\n",
       "      <td>53.302907</td>\n",
       "    </tr>\n",
       "    <tr>\n",
       "      <td>小区房屋出租数量</td>\n",
       "      <td>0.509314</td>\n",
       "    </tr>\n",
       "    <tr>\n",
       "      <td>位置</td>\n",
       "      <td>0.015773</td>\n",
       "    </tr>\n",
       "    <tr>\n",
       "      <td>区</td>\n",
       "      <td>0.015773</td>\n",
       "    </tr>\n",
       "  </tbody>\n",
       "</table>\n",
       "</div>"
      ],
      "text/plain": [
       "             缺失值百分比\n",
       "装修情况      90.591180\n",
       "居住状态      89.753688\n",
       "出租方式      87.671658\n",
       "距离        53.302907\n",
       "地铁站点      53.302907\n",
       "地铁线路      53.302907\n",
       "小区房屋出租数量   0.509314\n",
       "位置         0.015773\n",
       "区          0.015773"
      ]
     },
     "execution_count": 27,
     "metadata": {},
     "output_type": "execute_result"
    }
   ],
   "source": [
    "# 计算缺失值比例\n",
    "def ratio_of_null():\n",
    "    train_missing=(train.isnull().sum()/len(train))*100\n",
    "    train_missing = train_missing.drop(train_missing[train_missing==0].index).sort_values(ascending=False)\n",
    "    return pd.DataFrame({'缺失值百分比':train_missing})\n",
    "ratio_of_null()"
   ]
  },
  {
   "cell_type": "markdown",
   "metadata": {},
   "source": [
    "### 填充区和位置\n",
    "根据数据初步分析时的情况可以看出，位置缺失的就是3269这个小区的，所以选择全部丢弃"
   ]
  },
  {
   "cell_type": "code",
   "execution_count": 28,
   "metadata": {},
   "outputs": [],
   "source": [
    "train = train[train['小区名']!=3269]"
   ]
  },
  {
   "cell_type": "code",
   "execution_count": 29,
   "metadata": {},
   "outputs": [
    {
     "data": {
      "text/html": [
       "<div>\n",
       "<style scoped>\n",
       "    .dataframe tbody tr th:only-of-type {\n",
       "        vertical-align: middle;\n",
       "    }\n",
       "\n",
       "    .dataframe tbody tr th {\n",
       "        vertical-align: top;\n",
       "    }\n",
       "\n",
       "    .dataframe thead th {\n",
       "        text-align: right;\n",
       "    }\n",
       "</style>\n",
       "<table border=\"1\" class=\"dataframe\">\n",
       "  <thead>\n",
       "    <tr style=\"text-align: right;\">\n",
       "      <th></th>\n",
       "      <th>缺失值百分比</th>\n",
       "    </tr>\n",
       "  </thead>\n",
       "  <tbody>\n",
       "    <tr>\n",
       "      <td>装修情况</td>\n",
       "      <td>90.591732</td>\n",
       "    </tr>\n",
       "    <tr>\n",
       "      <td>居住状态</td>\n",
       "      <td>89.754107</td>\n",
       "    </tr>\n",
       "    <tr>\n",
       "      <td>出租方式</td>\n",
       "      <td>87.673275</td>\n",
       "    </tr>\n",
       "    <tr>\n",
       "      <td>距离</td>\n",
       "      <td>53.303682</td>\n",
       "    </tr>\n",
       "    <tr>\n",
       "      <td>地铁站点</td>\n",
       "      <td>53.303682</td>\n",
       "    </tr>\n",
       "    <tr>\n",
       "      <td>地铁线路</td>\n",
       "      <td>53.303682</td>\n",
       "    </tr>\n",
       "    <tr>\n",
       "      <td>小区房屋出租数量</td>\n",
       "      <td>0.508885</td>\n",
       "    </tr>\n",
       "  </tbody>\n",
       "</table>\n",
       "</div>"
      ],
      "text/plain": [
       "             缺失值百分比\n",
       "装修情况      90.591732\n",
       "居住状态      89.754107\n",
       "出租方式      87.673275\n",
       "距离        53.303682\n",
       "地铁站点      53.303682\n",
       "地铁线路      53.303682\n",
       "小区房屋出租数量   0.508885"
      ]
     },
     "execution_count": 29,
     "metadata": {},
     "output_type": "execute_result"
    }
   ],
   "source": [
    "ratio_of_null()"
   ]
  },
  {
   "cell_type": "markdown",
   "metadata": {},
   "source": [
    "### 地铁站点，距离 处理\n",
    "1.先用每个同名小区名和同位置的地铁线路,地铁站点,距离众数来填充\n",
    "\n",
    "2.剩下的地铁站点，距离，地铁线路的缺失值作为一种特征，表示该房屋附近没有地铁"
   ]
  },
  {
   "cell_type": "code",
   "execution_count": 30,
   "metadata": {},
   "outputs": [
    {
     "data": {
      "text/html": [
       "<div>\n",
       "<style scoped>\n",
       "    .dataframe tbody tr th:only-of-type {\n",
       "        vertical-align: middle;\n",
       "    }\n",
       "\n",
       "    .dataframe tbody tr th {\n",
       "        vertical-align: top;\n",
       "    }\n",
       "\n",
       "    .dataframe thead th {\n",
       "        text-align: right;\n",
       "    }\n",
       "</style>\n",
       "<table border=\"1\" class=\"dataframe\">\n",
       "  <thead>\n",
       "    <tr style=\"text-align: right;\">\n",
       "      <th></th>\n",
       "      <th></th>\n",
       "      <th>地铁站点</th>\n",
       "      <th>距离</th>\n",
       "    </tr>\n",
       "    <tr>\n",
       "      <th>小区名</th>\n",
       "      <th>位置</th>\n",
       "      <th></th>\n",
       "      <th></th>\n",
       "    </tr>\n",
       "  </thead>\n",
       "  <tbody>\n",
       "    <tr>\n",
       "      <td>0</td>\n",
       "      <td>59.0</td>\n",
       "      <td>57.0</td>\n",
       "      <td>0.478333</td>\n",
       "    </tr>\n",
       "    <tr>\n",
       "      <td>1</td>\n",
       "      <td>59.0</td>\n",
       "      <td>57.0</td>\n",
       "      <td>0.563333</td>\n",
       "    </tr>\n",
       "    <tr>\n",
       "      <td>2</td>\n",
       "      <td>40.0</td>\n",
       "      <td>33.0</td>\n",
       "      <td>0.971667</td>\n",
       "    </tr>\n",
       "    <tr>\n",
       "      <td>11</td>\n",
       "      <td>24.0</td>\n",
       "      <td>103.0</td>\n",
       "      <td>0.914167</td>\n",
       "    </tr>\n",
       "    <tr>\n",
       "      <td>12</td>\n",
       "      <td>28.0</td>\n",
       "      <td>69.0</td>\n",
       "      <td>0.633333</td>\n",
       "    </tr>\n",
       "    <tr>\n",
       "      <td>...</td>\n",
       "      <td>...</td>\n",
       "      <td>...</td>\n",
       "      <td>...</td>\n",
       "    </tr>\n",
       "    <tr>\n",
       "      <td>6625</td>\n",
       "      <td>41.0</td>\n",
       "      <td>88.0</td>\n",
       "      <td>0.931667</td>\n",
       "    </tr>\n",
       "    <tr>\n",
       "      <td rowspan=\"2\" valign=\"top\">6626</td>\n",
       "      <td>86.0</td>\n",
       "      <td>16.0</td>\n",
       "      <td>0.974167</td>\n",
       "    </tr>\n",
       "    <tr>\n",
       "      <td>136.0</td>\n",
       "      <td>16.0</td>\n",
       "      <td>0.974167</td>\n",
       "    </tr>\n",
       "    <tr>\n",
       "      <td rowspan=\"2\" valign=\"top\">6627</td>\n",
       "      <td>86.0</td>\n",
       "      <td>10.0</td>\n",
       "      <td>0.985000</td>\n",
       "    </tr>\n",
       "    <tr>\n",
       "      <td>136.0</td>\n",
       "      <td>10.0</td>\n",
       "      <td>0.985000</td>\n",
       "    </tr>\n",
       "  </tbody>\n",
       "</table>\n",
       "<p>3342 rows × 2 columns</p>\n",
       "</div>"
      ],
      "text/plain": [
       "             地铁站点        距离\n",
       "小区名  位置                    \n",
       "0    59.0    57.0  0.478333\n",
       "1    59.0    57.0  0.563333\n",
       "2    40.0    33.0  0.971667\n",
       "11   24.0   103.0  0.914167\n",
       "12   28.0    69.0  0.633333\n",
       "...           ...       ...\n",
       "6625 41.0    88.0  0.931667\n",
       "6626 86.0    16.0  0.974167\n",
       "     136.0   16.0  0.974167\n",
       "6627 86.0    10.0  0.985000\n",
       "     136.0   10.0  0.985000\n",
       "\n",
       "[3342 rows x 2 columns]"
      ]
     },
     "execution_count": 30,
     "metadata": {},
     "output_type": "execute_result"
    }
   ],
   "source": [
    "#先按照小区名和位置分组，然后获取每组的站点众数\n",
    "station_by_neighbor_position = train[['小区名','位置','地铁站点','距离']].drop_duplicates().dropna().groupby(['小区名','位置'])['地铁站点','距离'].apply(lambda x:np.max(x.mode()))\n",
    "station_by_neighbor_position"
   ]
  },
  {
   "cell_type": "code",
   "execution_count": 31,
   "metadata": {},
   "outputs": [
    {
     "data": {
      "text/html": [
       "<div>\n",
       "<style scoped>\n",
       "    .dataframe tbody tr th:only-of-type {\n",
       "        vertical-align: middle;\n",
       "    }\n",
       "\n",
       "    .dataframe tbody tr th {\n",
       "        vertical-align: top;\n",
       "    }\n",
       "\n",
       "    .dataframe thead th {\n",
       "        text-align: right;\n",
       "    }\n",
       "</style>\n",
       "<table border=\"1\" class=\"dataframe\">\n",
       "  <thead>\n",
       "    <tr style=\"text-align: right;\">\n",
       "      <th></th>\n",
       "      <th>地铁站点</th>\n",
       "      <th>距离</th>\n",
       "    </tr>\n",
       "    <tr>\n",
       "      <th>小区名</th>\n",
       "      <th></th>\n",
       "      <th></th>\n",
       "    </tr>\n",
       "  </thead>\n",
       "  <tbody>\n",
       "    <tr>\n",
       "      <td>0</td>\n",
       "      <td>57.0</td>\n",
       "      <td>0.478333</td>\n",
       "    </tr>\n",
       "    <tr>\n",
       "      <td>1</td>\n",
       "      <td>57.0</td>\n",
       "      <td>0.563333</td>\n",
       "    </tr>\n",
       "    <tr>\n",
       "      <td>2</td>\n",
       "      <td>33.0</td>\n",
       "      <td>0.971667</td>\n",
       "    </tr>\n",
       "    <tr>\n",
       "      <td>11</td>\n",
       "      <td>103.0</td>\n",
       "      <td>0.914167</td>\n",
       "    </tr>\n",
       "    <tr>\n",
       "      <td>12</td>\n",
       "      <td>69.0</td>\n",
       "      <td>0.633333</td>\n",
       "    </tr>\n",
       "    <tr>\n",
       "      <td>...</td>\n",
       "      <td>...</td>\n",
       "      <td>...</td>\n",
       "    </tr>\n",
       "    <tr>\n",
       "      <td>6622</td>\n",
       "      <td>25.0</td>\n",
       "      <td>0.245000</td>\n",
       "    </tr>\n",
       "    <tr>\n",
       "      <td>6623</td>\n",
       "      <td>119.0</td>\n",
       "      <td>0.410000</td>\n",
       "    </tr>\n",
       "    <tr>\n",
       "      <td>6625</td>\n",
       "      <td>88.0</td>\n",
       "      <td>0.931667</td>\n",
       "    </tr>\n",
       "    <tr>\n",
       "      <td>6626</td>\n",
       "      <td>16.0</td>\n",
       "      <td>0.974167</td>\n",
       "    </tr>\n",
       "    <tr>\n",
       "      <td>6627</td>\n",
       "      <td>10.0</td>\n",
       "      <td>0.985000</td>\n",
       "    </tr>\n",
       "  </tbody>\n",
       "</table>\n",
       "<p>3329 rows × 2 columns</p>\n",
       "</div>"
      ],
      "text/plain": [
       "       地铁站点        距离\n",
       "小区名                  \n",
       "0      57.0  0.478333\n",
       "1      57.0  0.563333\n",
       "2      33.0  0.971667\n",
       "11    103.0  0.914167\n",
       "12     69.0  0.633333\n",
       "...     ...       ...\n",
       "6622   25.0  0.245000\n",
       "6623  119.0  0.410000\n",
       "6625   88.0  0.931667\n",
       "6626   16.0  0.974167\n",
       "6627   10.0  0.985000\n",
       "\n",
       "[3329 rows x 2 columns]"
      ]
     },
     "execution_count": 31,
     "metadata": {},
     "output_type": "execute_result"
    }
   ],
   "source": [
    "station_by_neighbor=train[['小区名','地铁站点','距离']].drop_duplicates().dropna().groupby('小区名')['地铁站点','距离'].apply(lambda x:np.max(x.mode()))\n",
    "station_by_neighbor"
   ]
  },
  {
   "cell_type": "code",
   "execution_count": 32,
   "metadata": {},
   "outputs": [
    {
     "data": {
      "text/plain": [
       "地铁站点\n",
       "1.0      4.0\n",
       "2.0      2.0\n",
       "3.0      1.0\n",
       "4.0      5.0\n",
       "5.0      1.0\n",
       "        ... \n",
       "115.0    5.0\n",
       "116.0    1.0\n",
       "117.0    4.0\n",
       "118.0    4.0\n",
       "119.0    1.0\n",
       "Name: 地铁线路, Length: 118, dtype: float64"
      ]
     },
     "execution_count": 32,
     "metadata": {},
     "output_type": "execute_result"
    }
   ],
   "source": [
    "# 拿到每个站点对应的线路\n",
    "line_by_station=train[['地铁站点','地铁线路']].drop_duplicates().dropna().groupby('地铁站点')['地铁线路'].min()\n",
    "line_by_station"
   ]
  },
  {
   "cell_type": "code",
   "execution_count": 35,
   "metadata": {},
   "outputs": [
    {
     "data": {
      "text/html": [
       "<div>\n",
       "<style scoped>\n",
       "    .dataframe tbody tr th:only-of-type {\n",
       "        vertical-align: middle;\n",
       "    }\n",
       "\n",
       "    .dataframe tbody tr th {\n",
       "        vertical-align: top;\n",
       "    }\n",
       "\n",
       "    .dataframe thead th {\n",
       "        text-align: right;\n",
       "    }\n",
       "</style>\n",
       "<table border=\"1\" class=\"dataframe\">\n",
       "  <thead>\n",
       "    <tr style=\"text-align: right;\">\n",
       "      <th></th>\n",
       "      <th>缺失值百分比</th>\n",
       "    </tr>\n",
       "  </thead>\n",
       "  <tbody>\n",
       "    <tr>\n",
       "      <td>装修情况</td>\n",
       "      <td>90.591732</td>\n",
       "    </tr>\n",
       "    <tr>\n",
       "      <td>居住状态</td>\n",
       "      <td>89.754107</td>\n",
       "    </tr>\n",
       "    <tr>\n",
       "      <td>出租方式</td>\n",
       "      <td>87.673275</td>\n",
       "    </tr>\n",
       "    <tr>\n",
       "      <td>小区房屋出租数量</td>\n",
       "      <td>0.508885</td>\n",
       "    </tr>\n",
       "  </tbody>\n",
       "</table>\n",
       "</div>"
      ],
      "text/plain": [
       "             缺失值百分比\n",
       "装修情况      90.591732\n",
       "居住状态      89.754107\n",
       "出租方式      87.673275\n",
       "小区房屋出租数量   0.508885"
      ]
     },
     "execution_count": 35,
     "metadata": {},
     "output_type": "execute_result"
    }
   ],
   "source": [
    "def fill_stations(line,station_by_neighbor_position,station_by_neighbor,line_by_station):\n",
    "    if not pd.isna(line['地铁站点']):\n",
    "        return line\n",
    "    if (line['小区名'],line['位置']) in station_by_neighbor_position:\n",
    "        line['地铁站点']=station_by_neighbor_position.loc[(line['小区名'],line['位置']),'地铁站点']\n",
    "        line['距离']=station_by_neighbor_position.loc[(line['小区名'],line['位置']),'距离']\n",
    "        line['地铁线路']=line_by_station[line['地铁站点']]\n",
    "    elif line['小区名'] in station_by_neighbor.index:\n",
    "        line['地铁站点'] = station_by_neighbor.loc[line['小区名'],'地铁站点']\n",
    "        line['距离'] = station_by_neighbor.loc[line['小区名'],'距离']\n",
    "        line['地铁线路'] = line_by_station[line['地铁站点']]\n",
    "    else:\n",
    "        line['地铁站点']=station_value_for_fill\n",
    "        line['距离'] = distance_value_for_fill\n",
    "        line['地铁线路'] = line_value_for_fill\n",
    "    return line\n",
    "\n",
    "train = train.apply(fill_stations,station_by_neighbor_position=station_by_neighbor_position,station_by_neighbor=station_by_neighbor,line_by_station=line_by_station,axis=1)\n",
    "ratio_of_null()"
   ]
  },
  {
   "cell_type": "markdown",
   "metadata": {},
   "source": [
    "## 小区房屋出租数量处理\n",
    "用每个小区的房屋出租数量众数填充"
   ]
  },
  {
   "cell_type": "code",
   "execution_count": 36,
   "metadata": {},
   "outputs": [
    {
     "data": {
      "text/plain": [
       "小区名\n",
       "0       0.007812\n",
       "1       0.011719\n",
       "2       0.007812\n",
       "4       0.017578\n",
       "5       0.009766\n",
       "          ...   \n",
       "6623    0.011719\n",
       "6624    0.013672\n",
       "6625    0.011719\n",
       "6626    0.076172\n",
       "6627    0.093750\n",
       "Length: 5535, dtype: float64"
      ]
     },
     "execution_count": 36,
     "metadata": {},
     "output_type": "execute_result"
    }
   ],
   "source": [
    "#拿到每个小区房屋出租数量的众数\n",
    "ratio_by_neighbor=train[['小区名','小区房屋出租数量']].dropna().groupby('小区名').apply(lambda x:np.mean(x[\"小区房屋出租数量\"].mode()))\n",
    "ratio_by_neighbor"
   ]
  },
  {
   "cell_type": "code",
   "execution_count": 37,
   "metadata": {},
   "outputs": [
    {
     "data": {
      "text/plain": [
       "0.01953125"
      ]
     },
     "execution_count": 37,
     "metadata": {},
     "output_type": "execute_result"
    }
   ],
   "source": [
    "#拿到所有小区的“小区房屋出租数量”众数\n",
    "ratio_mode=train[\"小区房屋出租数量\"].mode().values[0]\n",
    "ratio_mode"
   ]
  },
  {
   "cell_type": "code",
   "execution_count": 38,
   "metadata": {},
   "outputs": [
    {
     "data": {
      "text/html": [
       "<div>\n",
       "<style scoped>\n",
       "    .dataframe tbody tr th:only-of-type {\n",
       "        vertical-align: middle;\n",
       "    }\n",
       "\n",
       "    .dataframe tbody tr th {\n",
       "        vertical-align: top;\n",
       "    }\n",
       "\n",
       "    .dataframe thead th {\n",
       "        text-align: right;\n",
       "    }\n",
       "</style>\n",
       "<table border=\"1\" class=\"dataframe\">\n",
       "  <thead>\n",
       "    <tr style=\"text-align: right;\">\n",
       "      <th></th>\n",
       "      <th>缺失值百分比</th>\n",
       "    </tr>\n",
       "  </thead>\n",
       "  <tbody>\n",
       "    <tr>\n",
       "      <td>装修情况</td>\n",
       "      <td>90.591732</td>\n",
       "    </tr>\n",
       "    <tr>\n",
       "      <td>居住状态</td>\n",
       "      <td>89.754107</td>\n",
       "    </tr>\n",
       "    <tr>\n",
       "      <td>出租方式</td>\n",
       "      <td>87.673275</td>\n",
       "    </tr>\n",
       "  </tbody>\n",
       "</table>\n",
       "</div>"
      ],
      "text/plain": [
       "         缺失值百分比\n",
       "装修情况  90.591732\n",
       "居住状态  89.754107\n",
       "出租方式  87.673275"
      ]
     },
     "execution_count": 38,
     "metadata": {},
     "output_type": "execute_result"
    }
   ],
   "source": [
    "def fill_rent_num(x,k,v,values,mode):\n",
    "    if not pd.isna(x[v]):\n",
    "        return x\n",
    "    else:\n",
    "        if x[k] in values.index:\n",
    "            x[v] = values[x[k]]\n",
    "        else:\n",
    "            x[v]=mode\n",
    "        return x\n",
    "\n",
    "train=train.apply(fill_rent_num,k='小区名',v='小区房屋出租数量',values=ratio_by_neighbor,mode=ratio_mode,axis=1)\n",
    "ratio_of_null()"
   ]
  },
  {
   "cell_type": "markdown",
   "metadata": {},
   "source": [
    "## 装修，居住状态，出租方式直接填充"
   ]
  },
  {
   "cell_type": "code",
   "execution_count": 39,
   "metadata": {},
   "outputs": [
    {
     "data": {
      "text/html": [
       "<div>\n",
       "<style scoped>\n",
       "    .dataframe tbody tr th:only-of-type {\n",
       "        vertical-align: middle;\n",
       "    }\n",
       "\n",
       "    .dataframe tbody tr th {\n",
       "        vertical-align: top;\n",
       "    }\n",
       "\n",
       "    .dataframe thead th {\n",
       "        text-align: right;\n",
       "    }\n",
       "</style>\n",
       "<table border=\"1\" class=\"dataframe\">\n",
       "  <thead>\n",
       "    <tr style=\"text-align: right;\">\n",
       "      <th></th>\n",
       "      <th>缺失值百分比</th>\n",
       "    </tr>\n",
       "  </thead>\n",
       "  <tbody>\n",
       "  </tbody>\n",
       "</table>\n",
       "</div>"
      ],
      "text/plain": [
       "Empty DataFrame\n",
       "Columns: [缺失值百分比]\n",
       "Index: []"
      ]
     },
     "execution_count": 39,
     "metadata": {},
     "output_type": "execute_result"
    }
   ],
   "source": [
    "train['出租方式']=train['出租方式'].fillna(rent_value_for_fill)\n",
    "train['装修情况']=train['装修情况'].fillna(decoration_value_for_fill)\n",
    "train['居住状态']=train['居住状态'].fillna(state_value_for_fill)\n",
    "ratio_of_null()"
   ]
  },
  {
   "cell_type": "markdown",
   "metadata": {},
   "source": [
    "## 清除异常样本"
   ]
  },
  {
   "cell_type": "code",
   "execution_count": 40,
   "metadata": {},
   "outputs": [
    {
     "data": {
      "text/plain": [
       "(196499, 19)"
      ]
     },
     "execution_count": 40,
     "metadata": {},
     "output_type": "execute_result"
    }
   ],
   "source": [
    "# 去掉房屋面积存在的异常值\n",
    "train=train[train['房屋面积']<0.3]\n",
    "train.shape"
   ]
  },
  {
   "cell_type": "markdown",
   "metadata": {},
   "source": [
    "## 处理月租金\n",
    "针对目标值月租金普遍分布过散，进行对数平滑"
   ]
  },
  {
   "cell_type": "code",
   "execution_count": 41,
   "metadata": {},
   "outputs": [],
   "source": [
    "train['log_rent']=np.log1p(train['月租金'])  # np.log1p  log(1+x)   inf"
   ]
  },
  {
   "cell_type": "code",
   "execution_count": 42,
   "metadata": {},
   "outputs": [
    {
     "data": {
      "image/png": "[encoded data removed]",
      "text/plain": [
       "<Figure size 720x360 with 1 Axes>"
      ]
     },
     "metadata": {
      "needs_background": "light"
     },
     "output_type": "display_data"
    }
   ],
   "source": [
    "# 纠正之前\n",
    "plt.figure(figsize=(10,5))\n",
    "sns.boxplot(x='月租金',data=train,orient='h')\n",
    "plt.show()"
   ]
  },
  {
   "cell_type": "code",
   "execution_count": 43,
   "metadata": {},
   "outputs": [
    {
     "data": {
      "image/png": "[encoded data removed]",
      "text/plain": [
       "<Figure size 720x360 with 1 Axes>"
      ]
     },
     "metadata": {
      "needs_background": "light"
     },
     "output_type": "display_data"
    }
   ],
   "source": [
    "# 纠偏之后\n",
    "plt.figure(figsize=(10,5))\n",
    "sns.boxplot(x=\"log_rent\",data=train,orient='h')\n",
    "plt.show()"
   ]
  },
  {
   "cell_type": "code",
   "execution_count": 44,
   "metadata": {},
   "outputs": [
    {
     "data": {
      "text/html": [
       "<div>\n",
       "<style scoped>\n",
       "    .dataframe tbody tr th:only-of-type {\n",
       "        vertical-align: middle;\n",
       "    }\n",
       "\n",
       "    .dataframe tbody tr th {\n",
       "        vertical-align: top;\n",
       "    }\n",
       "\n",
       "    .dataframe thead th {\n",
       "        text-align: right;\n",
       "    }\n",
       "</style>\n",
       "<table border=\"1\" class=\"dataframe\">\n",
       "  <thead>\n",
       "    <tr style=\"text-align: right;\">\n",
       "      <th></th>\n",
       "      <th>时间</th>\n",
       "      <th>小区名</th>\n",
       "      <th>小区房屋出租数量</th>\n",
       "      <th>楼层</th>\n",
       "      <th>总楼层</th>\n",
       "      <th>房屋面积</th>\n",
       "      <th>房屋朝向</th>\n",
       "      <th>居住状态</th>\n",
       "      <th>卧室数量</th>\n",
       "      <th>厅的数量</th>\n",
       "      <th>卫的数量</th>\n",
       "      <th>出租方式</th>\n",
       "      <th>区</th>\n",
       "      <th>位置</th>\n",
       "      <th>地铁线路</th>\n",
       "      <th>地铁站点</th>\n",
       "      <th>距离</th>\n",
       "      <th>装修情况</th>\n",
       "      <th>月租金</th>\n",
       "      <th>log_rent</th>\n",
       "    </tr>\n",
       "  </thead>\n",
       "  <tbody>\n",
       "    <tr>\n",
       "      <td>0</td>\n",
       "      <td>1</td>\n",
       "      <td>3072</td>\n",
       "      <td>0.128906</td>\n",
       "      <td>2</td>\n",
       "      <td>0.236364</td>\n",
       "      <td>0.008628</td>\n",
       "      <td>东南</td>\n",
       "      <td>0.0</td>\n",
       "      <td>1</td>\n",
       "      <td>1</td>\n",
       "      <td>1</td>\n",
       "      <td>-1.0</td>\n",
       "      <td>11.0</td>\n",
       "      <td>118.0</td>\n",
       "      <td>2.0</td>\n",
       "      <td>40.0</td>\n",
       "      <td>0.764167</td>\n",
       "      <td>-1.0</td>\n",
       "      <td>5.602716</td>\n",
       "      <td>1.887481</td>\n",
       "    </tr>\n",
       "    <tr>\n",
       "      <td>1</td>\n",
       "      <td>1</td>\n",
       "      <td>3152</td>\n",
       "      <td>0.132812</td>\n",
       "      <td>1</td>\n",
       "      <td>0.381818</td>\n",
       "      <td>0.017046</td>\n",
       "      <td>东</td>\n",
       "      <td>0.0</td>\n",
       "      <td>1</td>\n",
       "      <td>0</td>\n",
       "      <td>0</td>\n",
       "      <td>-1.0</td>\n",
       "      <td>10.0</td>\n",
       "      <td>100.0</td>\n",
       "      <td>4.0</td>\n",
       "      <td>58.0</td>\n",
       "      <td>0.709167</td>\n",
       "      <td>-1.0</td>\n",
       "      <td>16.977929</td>\n",
       "      <td>2.889145</td>\n",
       "    </tr>\n",
       "    <tr>\n",
       "      <td>2</td>\n",
       "      <td>1</td>\n",
       "      <td>5575</td>\n",
       "      <td>0.042969</td>\n",
       "      <td>0</td>\n",
       "      <td>0.290909</td>\n",
       "      <td>0.010593</td>\n",
       "      <td>东南</td>\n",
       "      <td>0.0</td>\n",
       "      <td>2</td>\n",
       "      <td>1</td>\n",
       "      <td>2</td>\n",
       "      <td>-1.0</td>\n",
       "      <td>12.0</td>\n",
       "      <td>130.0</td>\n",
       "      <td>5.0</td>\n",
       "      <td>37.0</td>\n",
       "      <td>0.572500</td>\n",
       "      <td>-1.0</td>\n",
       "      <td>8.998302</td>\n",
       "      <td>2.302415</td>\n",
       "    </tr>\n",
       "    <tr>\n",
       "      <td>3</td>\n",
       "      <td>1</td>\n",
       "      <td>3103</td>\n",
       "      <td>0.085938</td>\n",
       "      <td>2</td>\n",
       "      <td>0.581818</td>\n",
       "      <td>0.019199</td>\n",
       "      <td>南</td>\n",
       "      <td>0.0</td>\n",
       "      <td>3</td>\n",
       "      <td>2</td>\n",
       "      <td>2</td>\n",
       "      <td>-1.0</td>\n",
       "      <td>7.0</td>\n",
       "      <td>90.0</td>\n",
       "      <td>2.0</td>\n",
       "      <td>63.0</td>\n",
       "      <td>0.658333</td>\n",
       "      <td>-1.0</td>\n",
       "      <td>5.602716</td>\n",
       "      <td>1.887481</td>\n",
       "    </tr>\n",
       "    <tr>\n",
       "      <td>4</td>\n",
       "      <td>1</td>\n",
       "      <td>5182</td>\n",
       "      <td>0.214844</td>\n",
       "      <td>0</td>\n",
       "      <td>0.545455</td>\n",
       "      <td>0.010427</td>\n",
       "      <td>东北</td>\n",
       "      <td>0.0</td>\n",
       "      <td>2</td>\n",
       "      <td>1</td>\n",
       "      <td>1</td>\n",
       "      <td>-1.0</td>\n",
       "      <td>3.0</td>\n",
       "      <td>31.0</td>\n",
       "      <td>0.0</td>\n",
       "      <td>0.0</td>\n",
       "      <td>2.000000</td>\n",
       "      <td>-1.0</td>\n",
       "      <td>7.300509</td>\n",
       "      <td>2.116317</td>\n",
       "    </tr>\n",
       "  </tbody>\n",
       "</table>\n",
       "</div>"
      ],
      "text/plain": [
       "   时间   小区名  小区房屋出租数量  楼层       总楼层      房屋面积 房屋朝向  居住状态  卧室数量  厅的数量  卫的数量  \\\n",
       "0   1  3072  0.128906   2  0.236364  0.008628   东南   0.0     1     1     1   \n",
       "1   1  3152  0.132812   1  0.381818  0.017046    东   0.0     1     0     0   \n",
       "2   1  5575  0.042969   0  0.290909  0.010593   东南   0.0     2     1     2   \n",
       "3   1  3103  0.085938   2  0.581818  0.019199    南   0.0     3     2     2   \n",
       "4   1  5182  0.214844   0  0.545455  0.010427   东北   0.0     2     1     1   \n",
       "\n",
       "   出租方式     区     位置  地铁线路  地铁站点        距离  装修情况        月租金  log_rent  \n",
       "0  -1.0  11.0  118.0   2.0  40.0  0.764167  -1.0   5.602716  1.887481  \n",
       "1  -1.0  10.0  100.0   4.0  58.0  0.709167  -1.0  16.977929  2.889145  \n",
       "2  -1.0  12.0  130.0   5.0  37.0  0.572500  -1.0   8.998302  2.302415  \n",
       "3  -1.0   7.0   90.0   2.0  63.0  0.658333  -1.0   5.602716  1.887481  \n",
       "4  -1.0   3.0   31.0   0.0   0.0  2.000000  -1.0   7.300509  2.116317  "
      ]
     },
     "execution_count": 44,
     "metadata": {},
     "output_type": "execute_result"
    }
   ],
   "source": [
    "train.head()"
   ]
  },
  {
   "cell_type": "markdown",
   "metadata": {},
   "source": [
    "## 问题数据处理\n",
    "房屋朝向列有多个值,取第一个"
   ]
  },
  {
   "cell_type": "code",
   "execution_count": 45,
   "metadata": {},
   "outputs": [],
   "source": [
    "def split(text,i):\n",
    "    items = text.split(' ')\n",
    "    if i<len(items):\n",
    "        return items[i]\n",
    "    else:\n",
    "        return np.nan\n",
    "\n",
    "train['新朝向']=train['房屋朝向'].map(lambda x:split(x,0))        "
   ]
  },
  {
   "cell_type": "code",
   "execution_count": 46,
   "metadata": {},
   "outputs": [
    {
     "data": {
      "text/html": [
       "<div>\n",
       "<style scoped>\n",
       "    .dataframe tbody tr th:only-of-type {\n",
       "        vertical-align: middle;\n",
       "    }\n",
       "\n",
       "    .dataframe tbody tr th {\n",
       "        vertical-align: top;\n",
       "    }\n",
       "\n",
       "    .dataframe thead th {\n",
       "        text-align: right;\n",
       "    }\n",
       "</style>\n",
       "<table border=\"1\" class=\"dataframe\">\n",
       "  <thead>\n",
       "    <tr style=\"text-align: right;\">\n",
       "      <th></th>\n",
       "      <th>时间</th>\n",
       "      <th>小区名</th>\n",
       "      <th>小区房屋出租数量</th>\n",
       "      <th>楼层</th>\n",
       "      <th>总楼层</th>\n",
       "      <th>房屋面积</th>\n",
       "      <th>房屋朝向</th>\n",
       "      <th>居住状态</th>\n",
       "      <th>卧室数量</th>\n",
       "      <th>厅的数量</th>\n",
       "      <th>...</th>\n",
       "      <th>出租方式</th>\n",
       "      <th>区</th>\n",
       "      <th>位置</th>\n",
       "      <th>地铁线路</th>\n",
       "      <th>地铁站点</th>\n",
       "      <th>距离</th>\n",
       "      <th>装修情况</th>\n",
       "      <th>月租金</th>\n",
       "      <th>log_rent</th>\n",
       "      <th>新朝向</th>\n",
       "    </tr>\n",
       "  </thead>\n",
       "  <tbody>\n",
       "    <tr>\n",
       "      <td>0</td>\n",
       "      <td>1</td>\n",
       "      <td>3072</td>\n",
       "      <td>0.128906</td>\n",
       "      <td>2</td>\n",
       "      <td>0.236364</td>\n",
       "      <td>0.008628</td>\n",
       "      <td>东南</td>\n",
       "      <td>0.0</td>\n",
       "      <td>1</td>\n",
       "      <td>1</td>\n",
       "      <td>...</td>\n",
       "      <td>-1.0</td>\n",
       "      <td>11.0</td>\n",
       "      <td>118.0</td>\n",
       "      <td>2.0</td>\n",
       "      <td>40.0</td>\n",
       "      <td>0.764167</td>\n",
       "      <td>-1.0</td>\n",
       "      <td>5.602716</td>\n",
       "      <td>1.887481</td>\n",
       "      <td>东南</td>\n",
       "    </tr>\n",
       "    <tr>\n",
       "      <td>1</td>\n",
       "      <td>1</td>\n",
       "      <td>3152</td>\n",
       "      <td>0.132812</td>\n",
       "      <td>1</td>\n",
       "      <td>0.381818</td>\n",
       "      <td>0.017046</td>\n",
       "      <td>东</td>\n",
       "      <td>0.0</td>\n",
       "      <td>1</td>\n",
       "      <td>0</td>\n",
       "      <td>...</td>\n",
       "      <td>-1.0</td>\n",
       "      <td>10.0</td>\n",
       "      <td>100.0</td>\n",
       "      <td>4.0</td>\n",
       "      <td>58.0</td>\n",
       "      <td>0.709167</td>\n",
       "      <td>-1.0</td>\n",
       "      <td>16.977929</td>\n",
       "      <td>2.889145</td>\n",
       "      <td>东</td>\n",
       "    </tr>\n",
       "    <tr>\n",
       "      <td>2</td>\n",
       "      <td>1</td>\n",
       "      <td>5575</td>\n",
       "      <td>0.042969</td>\n",
       "      <td>0</td>\n",
       "      <td>0.290909</td>\n",
       "      <td>0.010593</td>\n",
       "      <td>东南</td>\n",
       "      <td>0.0</td>\n",
       "      <td>2</td>\n",
       "      <td>1</td>\n",
       "      <td>...</td>\n",
       "      <td>-1.0</td>\n",
       "      <td>12.0</td>\n",
       "      <td>130.0</td>\n",
       "      <td>5.0</td>\n",
       "      <td>37.0</td>\n",
       "      <td>0.572500</td>\n",
       "      <td>-1.0</td>\n",
       "      <td>8.998302</td>\n",
       "      <td>2.302415</td>\n",
       "      <td>东南</td>\n",
       "    </tr>\n",
       "    <tr>\n",
       "      <td>3</td>\n",
       "      <td>1</td>\n",
       "      <td>3103</td>\n",
       "      <td>0.085938</td>\n",
       "      <td>2</td>\n",
       "      <td>0.581818</td>\n",
       "      <td>0.019199</td>\n",
       "      <td>南</td>\n",
       "      <td>0.0</td>\n",
       "      <td>3</td>\n",
       "      <td>2</td>\n",
       "      <td>...</td>\n",
       "      <td>-1.0</td>\n",
       "      <td>7.0</td>\n",
       "      <td>90.0</td>\n",
       "      <td>2.0</td>\n",
       "      <td>63.0</td>\n",
       "      <td>0.658333</td>\n",
       "      <td>-1.0</td>\n",
       "      <td>5.602716</td>\n",
       "      <td>1.887481</td>\n",
       "      <td>南</td>\n",
       "    </tr>\n",
       "    <tr>\n",
       "      <td>4</td>\n",
       "      <td>1</td>\n",
       "      <td>5182</td>\n",
       "      <td>0.214844</td>\n",
       "      <td>0</td>\n",
       "      <td>0.545455</td>\n",
       "      <td>0.010427</td>\n",
       "      <td>东北</td>\n",
       "      <td>0.0</td>\n",
       "      <td>2</td>\n",
       "      <td>1</td>\n",
       "      <td>...</td>\n",
       "      <td>-1.0</td>\n",
       "      <td>3.0</td>\n",
       "      <td>31.0</td>\n",
       "      <td>0.0</td>\n",
       "      <td>0.0</td>\n",
       "      <td>2.000000</td>\n",
       "      <td>-1.0</td>\n",
       "      <td>7.300509</td>\n",
       "      <td>2.116317</td>\n",
       "      <td>东北</td>\n",
       "    </tr>\n",
       "  </tbody>\n",
       "</table>\n",
       "<p>5 rows × 21 columns</p>\n",
       "</div>"
      ],
      "text/plain": [
       "   时间   小区名  小区房屋出租数量  楼层       总楼层      房屋面积 房屋朝向  居住状态  卧室数量  厅的数量  ...  \\\n",
       "0   1  3072  0.128906   2  0.236364  0.008628   东南   0.0     1     1  ...   \n",
       "1   1  3152  0.132812   1  0.381818  0.017046    东   0.0     1     0  ...   \n",
       "2   1  5575  0.042969   0  0.290909  0.010593   东南   0.0     2     1  ...   \n",
       "3   1  3103  0.085938   2  0.581818  0.019199    南   0.0     3     2  ...   \n",
       "4   1  5182  0.214844   0  0.545455  0.010427   东北   0.0     2     1  ...   \n",
       "\n",
       "   出租方式     区     位置  地铁线路  地铁站点        距离  装修情况        月租金  log_rent  新朝向  \n",
       "0  -1.0  11.0  118.0   2.0  40.0  0.764167  -1.0   5.602716  1.887481   东南  \n",
       "1  -1.0  10.0  100.0   4.0  58.0  0.709167  -1.0  16.977929  2.889145    东  \n",
       "2  -1.0  12.0  130.0   5.0  37.0  0.572500  -1.0   8.998302  2.302415   东南  \n",
       "3  -1.0   7.0   90.0   2.0  63.0  0.658333  -1.0   5.602716  1.887481    南  \n",
       "4  -1.0   3.0   31.0   0.0   0.0  2.000000  -1.0   7.300509  2.116317   东北  \n",
       "\n",
       "[5 rows x 21 columns]"
      ]
     },
     "execution_count": 46,
     "metadata": {},
     "output_type": "execute_result"
    }
   ],
   "source": [
    "train.head()"
   ]
  },
  {
   "cell_type": "code",
   "execution_count": 49,
   "metadata": {},
   "outputs": [
    {
     "data": {
      "text/plain": [
       "南     59605\n",
       "东南    55854\n",
       "东     34282\n",
       "西南    17750\n",
       "北     10490\n",
       "西      9972\n",
       "西北     5259\n",
       "东北     3287\n",
       "Name: 新朝向, dtype: int64"
      ]
     },
     "execution_count": 49,
     "metadata": {},
     "output_type": "execute_result"
    }
   ],
   "source": [
    "train['新朝向'].value_counts()"
   ]
  },
  {
   "cell_type": "markdown",
   "metadata": {},
   "source": [
    "## 保存数据"
   ]
  },
  {
   "cell_type": "code",
   "execution_count": 50,
   "metadata": {},
   "outputs": [],
   "source": [
    "train.to_csv('data/train_etl.csv',index=None)"
   ]
  },
  {
   "cell_type": "code",
   "execution_count": null,
   "metadata": {},
   "outputs": [],
   "source": []
  }
 ],
 "metadata": {
  "kernelspec": {
   "display_name": "Python 3",
   "language": "python",
   "name": "python3"
  },
  "language_info": {
   "codemirror_mode": {
    "name": "ipython",
    "version": 3
   },
   "file_extension": ".py",
   "mimetype": "text/x-python",
   "name": "python",
   "nbconvert_exporter": "python",
   "pygments_lexer": "ipython3",
   "version": "3.7.4"
  }
 },
 "nbformat": 4,
 "nbformat_minor": 2
}
